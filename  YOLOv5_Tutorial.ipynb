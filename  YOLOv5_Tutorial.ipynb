{
  "nbformat": 4,
  "nbformat_minor": 0,
  "metadata": {
    "colab": {
      "name": "Copy of Copy of YOLOv5 Tutorial",
      "provenance": [],
      "collapsed_sections": [],
      "include_colab_link": true
    },
    "kernelspec": {
      "name": "python3",
      "display_name": "Python 3"
    },
    "accelerator": "GPU",
    "widgets": {
      "application/vnd.jupyter.widget-state+json": {
        "cef5e9351ca743bcba5febac0b096a30": {
          "model_module": "@jupyter-widgets/controls",
          "model_name": "HBoxModel",
          "state": {
            "_view_name": "HBoxView",
            "_dom_classes": [],
            "_model_name": "HBoxModel",
            "_view_module": "@jupyter-widgets/controls",
            "_model_module_version": "1.5.0",
            "_view_count": null,
            "_view_module_version": "1.5.0",
            "box_style": "",
            "layout": "IPY_MODEL_ec326c52378f4410920c328f221e0514",
            "_model_module": "@jupyter-widgets/controls",
            "children": [
              "IPY_MODEL_83000c64a11c4ae8abd6f0ef2f108cef",
              "IPY_MODEL_0f7899eb719f4a9c9852426551f97be9"
            ]
          }
        },
        "ec326c52378f4410920c328f221e0514": {
          "model_module": "@jupyter-widgets/base",
          "model_name": "LayoutModel",
          "state": {
            "_view_name": "LayoutView",
            "grid_template_rows": null,
            "right": null,
            "justify_content": null,
            "_view_module": "@jupyter-widgets/base",
            "overflow": null,
            "_model_module_version": "1.2.0",
            "_view_count": null,
            "flex_flow": null,
            "width": null,
            "min_width": null,
            "border": null,
            "align_items": null,
            "bottom": null,
            "_model_module": "@jupyter-widgets/base",
            "top": null,
            "grid_column": null,
            "overflow_y": null,
            "overflow_x": null,
            "grid_auto_flow": null,
            "grid_area": null,
            "grid_template_columns": null,
            "flex": null,
            "_model_name": "LayoutModel",
            "justify_items": null,
            "grid_row": null,
            "max_height": null,
            "align_content": null,
            "visibility": null,
            "align_self": null,
            "height": null,
            "min_height": null,
            "padding": null,
            "grid_auto_rows": null,
            "grid_gap": null,
            "max_width": null,
            "order": null,
            "_view_module_version": "1.2.0",
            "grid_template_areas": null,
            "object_position": null,
            "object_fit": null,
            "grid_auto_columns": null,
            "margin": null,
            "display": null,
            "left": null
          }
        },
        "83000c64a11c4ae8abd6f0ef2f108cef": {
          "model_module": "@jupyter-widgets/controls",
          "model_name": "FloatProgressModel",
          "state": {
            "_view_name": "ProgressView",
            "style": "IPY_MODEL_886ac5b18b3c4c82bf15ad5055f1e17e",
            "_dom_classes": [],
            "description": "100%",
            "_model_name": "FloatProgressModel",
            "bar_style": "success",
            "max": 819257867,
            "_view_module": "@jupyter-widgets/controls",
            "_model_module_version": "1.5.0",
            "value": 819257867,
            "_view_count": null,
            "_view_module_version": "1.5.0",
            "orientation": "horizontal",
            "min": 0,
            "description_tooltip": null,
            "_model_module": "@jupyter-widgets/controls",
            "layout": "IPY_MODEL_4e67b3c3a49849c7a7ba28b7eec96e7a"
          }
        },
        "0f7899eb719f4a9c9852426551f97be9": {
          "model_module": "@jupyter-widgets/controls",
          "model_name": "HTMLModel",
          "state": {
            "_view_name": "HTMLView",
            "style": "IPY_MODEL_62c3682ff1804571a483d46664533969",
            "_dom_classes": [],
            "description": "",
            "_model_name": "HTMLModel",
            "placeholder": "​",
            "_view_module": "@jupyter-widgets/controls",
            "_model_module_version": "1.5.0",
            "value": " 781M/781M [00:12&lt;00:00, 67.1MB/s]",
            "_view_count": null,
            "_view_module_version": "1.5.0",
            "description_tooltip": null,
            "_model_module": "@jupyter-widgets/controls",
            "layout": "IPY_MODEL_599dda3b608b432393760b2ca4ae7c7d"
          }
        },
        "886ac5b18b3c4c82bf15ad5055f1e17e": {
          "model_module": "@jupyter-widgets/controls",
          "model_name": "ProgressStyleModel",
          "state": {
            "_view_name": "StyleView",
            "_model_name": "ProgressStyleModel",
            "description_width": "initial",
            "_view_module": "@jupyter-widgets/base",
            "_model_module_version": "1.5.0",
            "_view_count": null,
            "_view_module_version": "1.2.0",
            "bar_color": null,
            "_model_module": "@jupyter-widgets/controls"
          }
        },
        "4e67b3c3a49849c7a7ba28b7eec96e7a": {
          "model_module": "@jupyter-widgets/base",
          "model_name": "LayoutModel",
          "state": {
            "_view_name": "LayoutView",
            "grid_template_rows": null,
            "right": null,
            "justify_content": null,
            "_view_module": "@jupyter-widgets/base",
            "overflow": null,
            "_model_module_version": "1.2.0",
            "_view_count": null,
            "flex_flow": null,
            "width": null,
            "min_width": null,
            "border": null,
            "align_items": null,
            "bottom": null,
            "_model_module": "@jupyter-widgets/base",
            "top": null,
            "grid_column": null,
            "overflow_y": null,
            "overflow_x": null,
            "grid_auto_flow": null,
            "grid_area": null,
            "grid_template_columns": null,
            "flex": null,
            "_model_name": "LayoutModel",
            "justify_items": null,
            "grid_row": null,
            "max_height": null,
            "align_content": null,
            "visibility": null,
            "align_self": null,
            "height": null,
            "min_height": null,
            "padding": null,
            "grid_auto_rows": null,
            "grid_gap": null,
            "max_width": null,
            "order": null,
            "_view_module_version": "1.2.0",
            "grid_template_areas": null,
            "object_position": null,
            "object_fit": null,
            "grid_auto_columns": null,
            "margin": null,
            "display": null,
            "left": null
          }
        },
        "62c3682ff1804571a483d46664533969": {
          "model_module": "@jupyter-widgets/controls",
          "model_name": "DescriptionStyleModel",
          "state": {
            "_view_name": "StyleView",
            "_model_name": "DescriptionStyleModel",
            "description_width": "",
            "_view_module": "@jupyter-widgets/base",
            "_model_module_version": "1.5.0",
            "_view_count": null,
            "_view_module_version": "1.2.0",
            "_model_module": "@jupyter-widgets/controls"
          }
        },
        "599dda3b608b432393760b2ca4ae7c7d": {
          "model_module": "@jupyter-widgets/base",
          "model_name": "LayoutModel",
          "state": {
            "_view_name": "LayoutView",
            "grid_template_rows": null,
            "right": null,
            "justify_content": null,
            "_view_module": "@jupyter-widgets/base",
            "overflow": null,
            "_model_module_version": "1.2.0",
            "_view_count": null,
            "flex_flow": null,
            "width": null,
            "min_width": null,
            "border": null,
            "align_items": null,
            "bottom": null,
            "_model_module": "@jupyter-widgets/base",
            "top": null,
            "grid_column": null,
            "overflow_y": null,
            "overflow_x": null,
            "grid_auto_flow": null,
            "grid_area": null,
            "grid_template_columns": null,
            "flex": null,
            "_model_name": "LayoutModel",
            "justify_items": null,
            "grid_row": null,
            "max_height": null,
            "align_content": null,
            "visibility": null,
            "align_self": null,
            "height": null,
            "min_height": null,
            "padding": null,
            "grid_auto_rows": null,
            "grid_gap": null,
            "max_width": null,
            "order": null,
            "_view_module_version": "1.2.0",
            "grid_template_areas": null,
            "object_position": null,
            "object_fit": null,
            "grid_auto_columns": null,
            "margin": null,
            "display": null,
            "left": null
          }
        },
        "217ca488c82a4b7a80318b70887a556e": {
          "model_module": "@jupyter-widgets/controls",
          "model_name": "HBoxModel",
          "state": {
            "_view_name": "HBoxView",
            "_dom_classes": [],
            "_model_name": "HBoxModel",
            "_view_module": "@jupyter-widgets/controls",
            "_model_module_version": "1.5.0",
            "_view_count": null,
            "_view_module_version": "1.5.0",
            "box_style": "",
            "layout": "IPY_MODEL_4e63af16f1084ca98a6fa5a282f2a81e",
            "_model_module": "@jupyter-widgets/controls",
            "children": [
              "IPY_MODEL_49f4b3c7f6ff42b4b9132a8550e12186",
              "IPY_MODEL_8ec9e1a4883245daaf029458ee09721f"
            ]
          }
        },
        "4e63af16f1084ca98a6fa5a282f2a81e": {
          "model_module": "@jupyter-widgets/base",
          "model_name": "LayoutModel",
          "state": {
            "_view_name": "LayoutView",
            "grid_template_rows": null,
            "right": null,
            "justify_content": null,
            "_view_module": "@jupyter-widgets/base",
            "overflow": null,
            "_model_module_version": "1.2.0",
            "_view_count": null,
            "flex_flow": null,
            "width": null,
            "min_width": null,
            "border": null,
            "align_items": null,
            "bottom": null,
            "_model_module": "@jupyter-widgets/base",
            "top": null,
            "grid_column": null,
            "overflow_y": null,
            "overflow_x": null,
            "grid_auto_flow": null,
            "grid_area": null,
            "grid_template_columns": null,
            "flex": null,
            "_model_name": "LayoutModel",
            "justify_items": null,
            "grid_row": null,
            "max_height": null,
            "align_content": null,
            "visibility": null,
            "align_self": null,
            "height": null,
            "min_height": null,
            "padding": null,
            "grid_auto_rows": null,
            "grid_gap": null,
            "max_width": null,
            "order": null,
            "_view_module_version": "1.2.0",
            "grid_template_areas": null,
            "object_position": null,
            "object_fit": null,
            "grid_auto_columns": null,
            "margin": null,
            "display": null,
            "left": null
          }
        },
        "49f4b3c7f6ff42b4b9132a8550e12186": {
          "model_module": "@jupyter-widgets/controls",
          "model_name": "FloatProgressModel",
          "state": {
            "_view_name": "ProgressView",
            "style": "IPY_MODEL_9d3e775ee11e4cf4b587b64fbc3cc6f7",
            "_dom_classes": [],
            "description": "100%",
            "_model_name": "FloatProgressModel",
            "bar_style": "success",
            "max": 22091032,
            "_view_module": "@jupyter-widgets/controls",
            "_model_module_version": "1.5.0",
            "value": 22091032,
            "_view_count": null,
            "_view_module_version": "1.5.0",
            "orientation": "horizontal",
            "min": 0,
            "description_tooltip": null,
            "_model_module": "@jupyter-widgets/controls",
            "layout": "IPY_MODEL_70f68a9a51ac46e6ab7e51fb4fc6bda3"
          }
        },
        "8ec9e1a4883245daaf029458ee09721f": {
          "model_module": "@jupyter-widgets/controls",
          "model_name": "HTMLModel",
          "state": {
            "_view_name": "HTMLView",
            "style": "IPY_MODEL_fdb8ab377c114bc3b862ba76eb93cef7",
            "_dom_classes": [],
            "description": "",
            "_model_name": "HTMLModel",
            "placeholder": "​",
            "_view_module": "@jupyter-widgets/controls",
            "_model_module_version": "1.5.0",
            "value": " 21.1M/21.1M [00:36&lt;00:00, 605kB/s]",
            "_view_count": null,
            "_view_module_version": "1.5.0",
            "description_tooltip": null,
            "_model_module": "@jupyter-widgets/controls",
            "layout": "IPY_MODEL_cd267c153c244621a1f50706d2ddc897"
          }
        },
        "9d3e775ee11e4cf4b587b64fbc3cc6f7": {
          "model_module": "@jupyter-widgets/controls",
          "model_name": "ProgressStyleModel",
          "state": {
            "_view_name": "StyleView",
            "_model_name": "ProgressStyleModel",
            "description_width": "initial",
            "_view_module": "@jupyter-widgets/base",
            "_model_module_version": "1.5.0",
            "_view_count": null,
            "_view_module_version": "1.2.0",
            "bar_color": null,
            "_model_module": "@jupyter-widgets/controls"
          }
        },
        "70f68a9a51ac46e6ab7e51fb4fc6bda3": {
          "model_module": "@jupyter-widgets/base",
          "model_name": "LayoutModel",
          "state": {
            "_view_name": "LayoutView",
            "grid_template_rows": null,
            "right": null,
            "justify_content": null,
            "_view_module": "@jupyter-widgets/base",
            "overflow": null,
            "_model_module_version": "1.2.0",
            "_view_count": null,
            "flex_flow": null,
            "width": null,
            "min_width": null,
            "border": null,
            "align_items": null,
            "bottom": null,
            "_model_module": "@jupyter-widgets/base",
            "top": null,
            "grid_column": null,
            "overflow_y": null,
            "overflow_x": null,
            "grid_auto_flow": null,
            "grid_area": null,
            "grid_template_columns": null,
            "flex": null,
            "_model_name": "LayoutModel",
            "justify_items": null,
            "grid_row": null,
            "max_height": null,
            "align_content": null,
            "visibility": null,
            "align_self": null,
            "height": null,
            "min_height": null,
            "padding": null,
            "grid_auto_rows": null,
            "grid_gap": null,
            "max_width": null,
            "order": null,
            "_view_module_version": "1.2.0",
            "grid_template_areas": null,
            "object_position": null,
            "object_fit": null,
            "grid_auto_columns": null,
            "margin": null,
            "display": null,
            "left": null
          }
        },
        "fdb8ab377c114bc3b862ba76eb93cef7": {
          "model_module": "@jupyter-widgets/controls",
          "model_name": "DescriptionStyleModel",
          "state": {
            "_view_name": "StyleView",
            "_model_name": "DescriptionStyleModel",
            "description_width": "",
            "_view_module": "@jupyter-widgets/base",
            "_model_module_version": "1.5.0",
            "_view_count": null,
            "_view_module_version": "1.2.0",
            "_model_module": "@jupyter-widgets/controls"
          }
        },
        "cd267c153c244621a1f50706d2ddc897": {
          "model_module": "@jupyter-widgets/base",
          "model_name": "LayoutModel",
          "state": {
            "_view_name": "LayoutView",
            "grid_template_rows": null,
            "right": null,
            "justify_content": null,
            "_view_module": "@jupyter-widgets/base",
            "overflow": null,
            "_model_module_version": "1.2.0",
            "_view_count": null,
            "flex_flow": null,
            "width": null,
            "min_width": null,
            "border": null,
            "align_items": null,
            "bottom": null,
            "_model_module": "@jupyter-widgets/base",
            "top": null,
            "grid_column": null,
            "overflow_y": null,
            "overflow_x": null,
            "grid_auto_flow": null,
            "grid_area": null,
            "grid_template_columns": null,
            "flex": null,
            "_model_name": "LayoutModel",
            "justify_items": null,
            "grid_row": null,
            "max_height": null,
            "align_content": null,
            "visibility": null,
            "align_self": null,
            "height": null,
            "min_height": null,
            "padding": null,
            "grid_auto_rows": null,
            "grid_gap": null,
            "max_width": null,
            "order": null,
            "_view_module_version": "1.2.0",
            "grid_template_areas": null,
            "object_position": null,
            "object_fit": null,
            "grid_auto_columns": null,
            "margin": null,
            "display": null,
            "left": null
          }
        }
      }
    }
  },
  "cells": [
    {
      "cell_type": "markdown",
      "metadata": {
        "id": "view-in-github",
        "colab_type": "text"
      },
      "source": [
        "<a href=\"https://colab.research.google.com/github/devyaz/HelloWorld/blob/master/%20YOLOv5_Tutorial.ipynb\" target=\"_parent\"><img src=\"https://colab.research.google.com/assets/colab-badge.svg\" alt=\"Open In Colab\"/></a>"
      ]
    },
    {
      "cell_type": "markdown",
      "metadata": {
        "id": "t6MPjfT5NrKQ"
      },
      "source": [
        "<a align=\"left\" href=\"https://ultralytics.com/yolov5\" target=\"_blank\">\n",
        "<img src=\"https://user-images.githubusercontent.com/26833433/125273437-35b3fc00-e30d-11eb-9079-46f313325424.png\"></a>\n",
        "\n",
        "This is the **official YOLOv5 🚀 notebook** authored by **Ultralytics**, and is freely available for redistribution under the [GPL-3.0 license](https://choosealicense.com/licenses/gpl-3.0/). \n",
        "For more information please visit https://github.com/ultralytics/yolov5 and https://ultralytics.com. Thank you!"
      ]
    },
    {
      "cell_type": "markdown",
      "metadata": {
        "id": "7mGmQbAO5pQb"
      },
      "source": [
        "# Setup\n",
        "\n",
        "Clone repo, install dependencies and check PyTorch and GPU."
      ]
    },
    {
      "cell_type": "code",
      "metadata": {
        "id": "wbvMlHd_QwMG",
        "colab": {
          "base_uri": "https://localhost:8080/"
        },
        "outputId": "f004af4f-a21b-417f-fcf9-3bf50ee51b1e"
      },
      "source": [
        "!git clone https://github.com/ultralytics/yolov5  # clone repo\n",
        "%cd yolov5\n",
        "%pip install -qr requirements.txt  # install dependencies\n",
        "\n",
        "import torch\n",
        "from IPython.display import Image, clear_output  # to display images\n",
        "\n",
        "clear_output()\n",
        "print(f\"Setup complete. Using torch {torch.__version__} ({torch.cuda.get_device_properties(0).name if torch.cuda.is_available() else 'CPU'})\")"
      ],
      "execution_count": null,
      "outputs": [
        {
          "output_type": "stream",
          "text": [
            "Setup complete. Using torch 1.9.0+cu102 (Tesla T4)\n"
          ],
          "name": "stdout"
        }
      ]
    },
    {
      "cell_type": "code",
      "metadata": {
        "id": "QhgH_2rsTatL"
      },
      "source": [
        "!unzip -q ../train_data.zip -d ../\n"
      ],
      "execution_count": null,
      "outputs": []
    },
    {
      "cell_type": "markdown",
      "metadata": {
        "id": "4JnkELT0cIJg"
      },
      "source": [
        "# 1. Inference\n",
        "\n",
        "`detect.py` runs YOLOv5 inference on a variety of sources, downloading models automatically from the [latest YOLOv5 release](https://github.com/ultralytics/yolov5/releases), and saving results to `runs/detect`. Example inference sources are:\n",
        "\n",
        "<img src=\"https://user-images.githubusercontent.com/26833433/114307955-5c7e4e80-9ae2-11eb-9f50-a90e39bee53f.png\" width=\"900\"> "
      ]
    },
    {
      "cell_type": "code",
      "metadata": {
        "id": "zR9ZbuQCH7FX",
        "colab": {
          "base_uri": "https://localhost:8080/"
        },
        "outputId": "82f56920-0a70-4f15-dcd6-1d5f4c8e6320"
      },
      "source": [
        "!python detect.py --weights runs/train/exp/weights/best.pt --img 640 --conf 0.25 --source ../rice.mp4\n",
        " "
      ],
      "execution_count": null,
      "outputs": [
        {
          "output_type": "stream",
          "text": [
            "\u001b[34m\u001b[1mdetect: \u001b[0mweights=['runs/train/exp/weights/best.pt'], source=../rice.mp4, imgsz=640, conf_thres=0.25, iou_thres=0.45, max_det=1000, device=, view_img=False, save_txt=False, save_conf=False, save_crop=False, nosave=False, classes=None, agnostic_nms=False, augment=False, visualize=False, update=False, project=runs/detect, name=exp, exist_ok=False, line_thickness=3, hide_labels=False, hide_conf=False, half=False\n",
            "YOLOv5 🚀 v5.0-295-g9dd33fd torch 1.9.0+cu102 CUDA:0 (Tesla T4, 15109.75MB)\n",
            "\n",
            "Fusing layers... \n",
            "/usr/local/lib/python3.7/dist-packages/torch/nn/functional.py:718: UserWarning: Named tensors and all their associated APIs are an experimental feature and subject to change. Please do not use them for anything important until they are released as stable. (Triggered internally at  /pytorch/c10/core/TensorImpl.h:1156.)\n",
            "  return torch.max_pool2d(input, kernel_size, stride, padding, dilation, ceil_mode)\n",
            "Model Summary: 224 layers, 7053910 parameters, 0 gradients, 16.3 GFLOPs\n",
            "video 1/1 (1/580) /content/yolov5/../rice.mp4: 384x640 Done. (0.011s)\n",
            "video 1/1 (2/580) /content/yolov5/../rice.mp4: 384x640 Done. (0.010s)\n",
            "video 1/1 (3/580) /content/yolov5/../rice.mp4: 384x640 Done. (0.010s)\n",
            "video 1/1 (4/580) /content/yolov5/../rice.mp4: 384x640 Done. (0.010s)\n",
            "video 1/1 (5/580) /content/yolov5/../rice.mp4: 384x640 Done. (0.010s)\n",
            "video 1/1 (6/580) /content/yolov5/../rice.mp4: 384x640 Done. (0.010s)\n",
            "video 1/1 (7/580) /content/yolov5/../rice.mp4: 384x640 Done. (0.010s)\n",
            "video 1/1 (8/580) /content/yolov5/../rice.mp4: 384x640 Done. (0.010s)\n",
            "video 1/1 (9/580) /content/yolov5/../rice.mp4: 384x640 Done. (0.010s)\n",
            "video 1/1 (10/580) /content/yolov5/../rice.mp4: 384x640 Done. (0.010s)\n",
            "video 1/1 (11/580) /content/yolov5/../rice.mp4: 384x640 Done. (0.010s)\n",
            "video 1/1 (12/580) /content/yolov5/../rice.mp4: 384x640 Done. (0.010s)\n",
            "video 1/1 (13/580) /content/yolov5/../rice.mp4: 384x640 Done. (0.010s)\n",
            "video 1/1 (14/580) /content/yolov5/../rice.mp4: 384x640 Done. (0.010s)\n",
            "video 1/1 (15/580) /content/yolov5/../rice.mp4: 384x640 Done. (0.010s)\n",
            "video 1/1 (16/580) /content/yolov5/../rice.mp4: 384x640 Done. (0.010s)\n",
            "video 1/1 (17/580) /content/yolov5/../rice.mp4: 384x640 Done. (0.010s)\n",
            "video 1/1 (18/580) /content/yolov5/../rice.mp4: 384x640 Done. (0.010s)\n",
            "video 1/1 (19/580) /content/yolov5/../rice.mp4: 384x640 Done. (0.010s)\n",
            "video 1/1 (20/580) /content/yolov5/../rice.mp4: 384x640 Done. (0.010s)\n",
            "video 1/1 (21/580) /content/yolov5/../rice.mp4: 384x640 Done. (0.010s)\n",
            "video 1/1 (22/580) /content/yolov5/../rice.mp4: 384x640 Done. (0.010s)\n",
            "video 1/1 (23/580) /content/yolov5/../rice.mp4: 384x640 Done. (0.010s)\n",
            "video 1/1 (24/580) /content/yolov5/../rice.mp4: 384x640 Done. (0.010s)\n",
            "video 1/1 (25/580) /content/yolov5/../rice.mp4: 384x640 Done. (0.010s)\n",
            "video 1/1 (26/580) /content/yolov5/../rice.mp4: 384x640 Done. (0.010s)\n",
            "video 1/1 (27/580) /content/yolov5/../rice.mp4: 384x640 Done. (0.010s)\n",
            "video 1/1 (28/580) /content/yolov5/../rice.mp4: 384x640 Done. (0.010s)\n",
            "video 1/1 (29/580) /content/yolov5/../rice.mp4: 384x640 Done. (0.010s)\n",
            "video 1/1 (30/580) /content/yolov5/../rice.mp4: 384x640 Done. (0.010s)\n",
            "video 1/1 (31/580) /content/yolov5/../rice.mp4: 384x640 Done. (0.010s)\n",
            "video 1/1 (32/580) /content/yolov5/../rice.mp4: 384x640 Done. (0.010s)\n",
            "video 1/1 (33/580) /content/yolov5/../rice.mp4: 384x640 Done. (0.010s)\n",
            "video 1/1 (34/580) /content/yolov5/../rice.mp4: 384x640 Done. (0.010s)\n",
            "video 1/1 (35/580) /content/yolov5/../rice.mp4: 384x640 Done. (0.010s)\n",
            "video 1/1 (36/580) /content/yolov5/../rice.mp4: 384x640 Done. (0.010s)\n",
            "video 1/1 (37/580) /content/yolov5/../rice.mp4: 384x640 Done. (0.010s)\n",
            "video 1/1 (38/580) /content/yolov5/../rice.mp4: 384x640 Done. (0.010s)\n",
            "video 1/1 (39/580) /content/yolov5/../rice.mp4: 384x640 Done. (0.010s)\n",
            "video 1/1 (40/580) /content/yolov5/../rice.mp4: 384x640 Done. (0.010s)\n",
            "video 1/1 (41/580) /content/yolov5/../rice.mp4: 384x640 Done. (0.010s)\n",
            "video 1/1 (42/580) /content/yolov5/../rice.mp4: 384x640 Done. (0.010s)\n",
            "video 1/1 (43/580) /content/yolov5/../rice.mp4: 384x640 Done. (0.010s)\n",
            "video 1/1 (44/580) /content/yolov5/../rice.mp4: 384x640 Done. (0.010s)\n",
            "video 1/1 (45/580) /content/yolov5/../rice.mp4: 384x640 Done. (0.010s)\n",
            "video 1/1 (46/580) /content/yolov5/../rice.mp4: 384x640 Done. (0.010s)\n",
            "video 1/1 (47/580) /content/yolov5/../rice.mp4: 384x640 Done. (0.010s)\n",
            "video 1/1 (48/580) /content/yolov5/../rice.mp4: 384x640 Done. (0.010s)\n",
            "video 1/1 (49/580) /content/yolov5/../rice.mp4: 384x640 Done. (0.010s)\n",
            "video 1/1 (50/580) /content/yolov5/../rice.mp4: 384x640 Done. (0.010s)\n",
            "video 1/1 (51/580) /content/yolov5/../rice.mp4: 384x640 Done. (0.010s)\n",
            "video 1/1 (52/580) /content/yolov5/../rice.mp4: 384x640 Done. (0.010s)\n",
            "video 1/1 (53/580) /content/yolov5/../rice.mp4: 384x640 Done. (0.010s)\n",
            "video 1/1 (54/580) /content/yolov5/../rice.mp4: 384x640 Done. (0.010s)\n",
            "video 1/1 (55/580) /content/yolov5/../rice.mp4: 384x640 Done. (0.010s)\n",
            "video 1/1 (56/580) /content/yolov5/../rice.mp4: 384x640 Done. (0.010s)\n",
            "video 1/1 (57/580) /content/yolov5/../rice.mp4: 384x640 Done. (0.010s)\n",
            "video 1/1 (58/580) /content/yolov5/../rice.mp4: 384x640 Done. (0.010s)\n",
            "video 1/1 (59/580) /content/yolov5/../rice.mp4: 384x640 Done. (0.010s)\n",
            "video 1/1 (60/580) /content/yolov5/../rice.mp4: 384x640 Done. (0.010s)\n",
            "video 1/1 (61/580) /content/yolov5/../rice.mp4: 384x640 Done. (0.010s)\n",
            "video 1/1 (62/580) /content/yolov5/../rice.mp4: 384x640 Done. (0.010s)\n",
            "video 1/1 (63/580) /content/yolov5/../rice.mp4: 384x640 Done. (0.010s)\n",
            "video 1/1 (64/580) /content/yolov5/../rice.mp4: 384x640 Done. (0.010s)\n",
            "video 1/1 (65/580) /content/yolov5/../rice.mp4: 384x640 Done. (0.010s)\n",
            "video 1/1 (66/580) /content/yolov5/../rice.mp4: 384x640 Done. (0.010s)\n",
            "video 1/1 (67/580) /content/yolov5/../rice.mp4: 384x640 Done. (0.010s)\n",
            "video 1/1 (68/580) /content/yolov5/../rice.mp4: 384x640 Done. (0.010s)\n",
            "video 1/1 (69/580) /content/yolov5/../rice.mp4: 384x640 Done. (0.010s)\n",
            "video 1/1 (70/580) /content/yolov5/../rice.mp4: 384x640 Done. (0.010s)\n",
            "video 1/1 (71/580) /content/yolov5/../rice.mp4: 384x640 Done. (0.010s)\n",
            "video 1/1 (72/580) /content/yolov5/../rice.mp4: 384x640 Done. (0.010s)\n",
            "video 1/1 (73/580) /content/yolov5/../rice.mp4: 384x640 Done. (0.010s)\n",
            "video 1/1 (74/580) /content/yolov5/../rice.mp4: 384x640 Done. (0.010s)\n",
            "video 1/1 (75/580) /content/yolov5/../rice.mp4: 384x640 Done. (0.010s)\n",
            "video 1/1 (76/580) /content/yolov5/../rice.mp4: 384x640 Done. (0.010s)\n",
            "video 1/1 (77/580) /content/yolov5/../rice.mp4: 384x640 Done. (0.010s)\n",
            "video 1/1 (78/580) /content/yolov5/../rice.mp4: 384x640 Done. (0.010s)\n",
            "video 1/1 (79/580) /content/yolov5/../rice.mp4: 384x640 Done. (0.010s)\n",
            "video 1/1 (80/580) /content/yolov5/../rice.mp4: 384x640 Done. (0.010s)\n",
            "video 1/1 (81/580) /content/yolov5/../rice.mp4: 384x640 Done. (0.010s)\n",
            "video 1/1 (82/580) /content/yolov5/../rice.mp4: 384x640 Done. (0.010s)\n",
            "video 1/1 (83/580) /content/yolov5/../rice.mp4: 384x640 Done. (0.010s)\n",
            "video 1/1 (84/580) /content/yolov5/../rice.mp4: 384x640 Done. (0.010s)\n",
            "video 1/1 (85/580) /content/yolov5/../rice.mp4: 384x640 Done. (0.010s)\n",
            "video 1/1 (86/580) /content/yolov5/../rice.mp4: 384x640 Done. (0.010s)\n",
            "video 1/1 (87/580) /content/yolov5/../rice.mp4: 384x640 Done. (0.010s)\n",
            "video 1/1 (88/580) /content/yolov5/../rice.mp4: 384x640 Done. (0.010s)\n",
            "video 1/1 (89/580) /content/yolov5/../rice.mp4: 384x640 Done. (0.010s)\n",
            "video 1/1 (90/580) /content/yolov5/../rice.mp4: 384x640 Done. (0.010s)\n",
            "video 1/1 (91/580) /content/yolov5/../rice.mp4: 384x640 Done. (0.010s)\n",
            "video 1/1 (92/580) /content/yolov5/../rice.mp4: 384x640 Done. (0.010s)\n",
            "video 1/1 (93/580) /content/yolov5/../rice.mp4: 384x640 Done. (0.010s)\n",
            "video 1/1 (94/580) /content/yolov5/../rice.mp4: 384x640 Done. (0.010s)\n",
            "video 1/1 (95/580) /content/yolov5/../rice.mp4: 384x640 Done. (0.010s)\n",
            "video 1/1 (96/580) /content/yolov5/../rice.mp4: 384x640 Done. (0.010s)\n",
            "video 1/1 (97/580) /content/yolov5/../rice.mp4: 384x640 Done. (0.010s)\n",
            "video 1/1 (98/580) /content/yolov5/../rice.mp4: 384x640 Done. (0.010s)\n",
            "video 1/1 (99/580) /content/yolov5/../rice.mp4: 384x640 Done. (0.010s)\n",
            "video 1/1 (100/580) /content/yolov5/../rice.mp4: 384x640 Done. (0.010s)\n",
            "video 1/1 (101/580) /content/yolov5/../rice.mp4: 384x640 Done. (0.010s)\n",
            "video 1/1 (102/580) /content/yolov5/../rice.mp4: 384x640 Done. (0.010s)\n",
            "video 1/1 (103/580) /content/yolov5/../rice.mp4: 384x640 Done. (0.010s)\n",
            "video 1/1 (104/580) /content/yolov5/../rice.mp4: 384x640 Done. (0.010s)\n",
            "video 1/1 (105/580) /content/yolov5/../rice.mp4: 384x640 Done. (0.010s)\n",
            "video 1/1 (106/580) /content/yolov5/../rice.mp4: 384x640 Done. (0.010s)\n",
            "video 1/1 (107/580) /content/yolov5/../rice.mp4: 384x640 Done. (0.010s)\n",
            "video 1/1 (108/580) /content/yolov5/../rice.mp4: 384x640 Done. (0.010s)\n",
            "video 1/1 (109/580) /content/yolov5/../rice.mp4: 384x640 Done. (0.010s)\n",
            "video 1/1 (110/580) /content/yolov5/../rice.mp4: 384x640 Done. (0.010s)\n",
            "video 1/1 (111/580) /content/yolov5/../rice.mp4: 384x640 Done. (0.010s)\n",
            "video 1/1 (112/580) /content/yolov5/../rice.mp4: 384x640 Done. (0.010s)\n",
            "video 1/1 (113/580) /content/yolov5/../rice.mp4: 384x640 Done. (0.010s)\n",
            "video 1/1 (114/580) /content/yolov5/../rice.mp4: 384x640 Done. (0.010s)\n",
            "video 1/1 (115/580) /content/yolov5/../rice.mp4: 384x640 Done. (0.010s)\n",
            "video 1/1 (116/580) /content/yolov5/../rice.mp4: 384x640 Done. (0.010s)\n",
            "video 1/1 (117/580) /content/yolov5/../rice.mp4: 384x640 Done. (0.010s)\n",
            "video 1/1 (118/580) /content/yolov5/../rice.mp4: 384x640 Done. (0.010s)\n",
            "video 1/1 (119/580) /content/yolov5/../rice.mp4: 384x640 Done. (0.010s)\n",
            "video 1/1 (120/580) /content/yolov5/../rice.mp4: 384x640 Done. (0.010s)\n",
            "video 1/1 (121/580) /content/yolov5/../rice.mp4: 384x640 Done. (0.010s)\n",
            "video 1/1 (122/580) /content/yolov5/../rice.mp4: 384x640 Done. (0.010s)\n",
            "video 1/1 (123/580) /content/yolov5/../rice.mp4: 384x640 Done. (0.010s)\n",
            "video 1/1 (124/580) /content/yolov5/../rice.mp4: 384x640 Done. (0.010s)\n",
            "video 1/1 (125/580) /content/yolov5/../rice.mp4: 384x640 Done. (0.010s)\n",
            "video 1/1 (126/580) /content/yolov5/../rice.mp4: 384x640 Done. (0.010s)\n",
            "video 1/1 (127/580) /content/yolov5/../rice.mp4: 384x640 Done. (0.010s)\n",
            "video 1/1 (128/580) /content/yolov5/../rice.mp4: 384x640 Done. (0.010s)\n",
            "video 1/1 (129/580) /content/yolov5/../rice.mp4: 384x640 Done. (0.010s)\n",
            "video 1/1 (130/580) /content/yolov5/../rice.mp4: 384x640 Done. (0.010s)\n",
            "video 1/1 (131/580) /content/yolov5/../rice.mp4: 384x640 Done. (0.010s)\n",
            "video 1/1 (132/580) /content/yolov5/../rice.mp4: 384x640 Done. (0.010s)\n",
            "video 1/1 (133/580) /content/yolov5/../rice.mp4: 384x640 Done. (0.010s)\n",
            "video 1/1 (134/580) /content/yolov5/../rice.mp4: 384x640 Done. (0.010s)\n",
            "video 1/1 (135/580) /content/yolov5/../rice.mp4: 384x640 Done. (0.010s)\n",
            "video 1/1 (136/580) /content/yolov5/../rice.mp4: 384x640 Done. (0.010s)\n",
            "video 1/1 (137/580) /content/yolov5/../rice.mp4: 384x640 Done. (0.010s)\n",
            "video 1/1 (138/580) /content/yolov5/../rice.mp4: 384x640 Done. (0.010s)\n",
            "video 1/1 (139/580) /content/yolov5/../rice.mp4: 384x640 Done. (0.010s)\n",
            "video 1/1 (140/580) /content/yolov5/../rice.mp4: 384x640 Done. (0.010s)\n",
            "video 1/1 (141/580) /content/yolov5/../rice.mp4: 384x640 Done. (0.010s)\n",
            "video 1/1 (142/580) /content/yolov5/../rice.mp4: 384x640 Done. (0.010s)\n",
            "video 1/1 (143/580) /content/yolov5/../rice.mp4: 384x640 Done. (0.010s)\n",
            "video 1/1 (144/580) /content/yolov5/../rice.mp4: 384x640 Done. (0.010s)\n",
            "video 1/1 (145/580) /content/yolov5/../rice.mp4: 384x640 Done. (0.010s)\n",
            "video 1/1 (146/580) /content/yolov5/../rice.mp4: 384x640 Done. (0.010s)\n",
            "video 1/1 (147/580) /content/yolov5/../rice.mp4: 384x640 Done. (0.010s)\n",
            "video 1/1 (148/580) /content/yolov5/../rice.mp4: 384x640 Done. (0.010s)\n",
            "video 1/1 (149/580) /content/yolov5/../rice.mp4: 384x640 Done. (0.010s)\n",
            "video 1/1 (150/580) /content/yolov5/../rice.mp4: 384x640 Done. (0.010s)\n",
            "video 1/1 (151/580) /content/yolov5/../rice.mp4: 384x640 Done. (0.010s)\n",
            "video 1/1 (152/580) /content/yolov5/../rice.mp4: 384x640 Done. (0.010s)\n",
            "video 1/1 (153/580) /content/yolov5/../rice.mp4: 384x640 Done. (0.010s)\n",
            "video 1/1 (154/580) /content/yolov5/../rice.mp4: 384x640 Done. (0.010s)\n",
            "video 1/1 (155/580) /content/yolov5/../rice.mp4: 384x640 Done. (0.010s)\n",
            "video 1/1 (156/580) /content/yolov5/../rice.mp4: 384x640 Done. (0.010s)\n",
            "video 1/1 (157/580) /content/yolov5/../rice.mp4: 384x640 Done. (0.010s)\n",
            "video 1/1 (158/580) /content/yolov5/../rice.mp4: 384x640 Done. (0.010s)\n",
            "video 1/1 (159/580) /content/yolov5/../rice.mp4: 384x640 Done. (0.010s)\n",
            "video 1/1 (160/580) /content/yolov5/../rice.mp4: 384x640 Done. (0.010s)\n",
            "video 1/1 (161/580) /content/yolov5/../rice.mp4: 384x640 Done. (0.010s)\n",
            "video 1/1 (162/580) /content/yolov5/../rice.mp4: 384x640 Done. (0.010s)\n",
            "video 1/1 (163/580) /content/yolov5/../rice.mp4: 384x640 Done. (0.010s)\n",
            "video 1/1 (164/580) /content/yolov5/../rice.mp4: 384x640 Done. (0.010s)\n",
            "video 1/1 (165/580) /content/yolov5/../rice.mp4: 384x640 Done. (0.010s)\n",
            "video 1/1 (166/580) /content/yolov5/../rice.mp4: 384x640 Done. (0.010s)\n",
            "video 1/1 (167/580) /content/yolov5/../rice.mp4: 384x640 Done. (0.010s)\n",
            "video 1/1 (168/580) /content/yolov5/../rice.mp4: 384x640 Done. (0.010s)\n",
            "video 1/1 (169/580) /content/yolov5/../rice.mp4: 384x640 Done. (0.010s)\n",
            "video 1/1 (170/580) /content/yolov5/../rice.mp4: 384x640 Done. (0.010s)\n",
            "video 1/1 (171/580) /content/yolov5/../rice.mp4: 384x640 Done. (0.010s)\n",
            "video 1/1 (172/580) /content/yolov5/../rice.mp4: 384x640 Done. (0.010s)\n",
            "video 1/1 (173/580) /content/yolov5/../rice.mp4: 384x640 Done. (0.010s)\n",
            "video 1/1 (174/580) /content/yolov5/../rice.mp4: 384x640 Done. (0.010s)\n",
            "video 1/1 (175/580) /content/yolov5/../rice.mp4: 384x640 Done. (0.010s)\n",
            "video 1/1 (176/580) /content/yolov5/../rice.mp4: 384x640 Done. (0.010s)\n",
            "video 1/1 (177/580) /content/yolov5/../rice.mp4: 384x640 Done. (0.010s)\n",
            "video 1/1 (178/580) /content/yolov5/../rice.mp4: 384x640 Done. (0.010s)\n",
            "video 1/1 (179/580) /content/yolov5/../rice.mp4: 384x640 Done. (0.010s)\n",
            "video 1/1 (180/580) /content/yolov5/../rice.mp4: 384x640 Done. (0.010s)\n",
            "video 1/1 (181/580) /content/yolov5/../rice.mp4: 384x640 Done. (0.010s)\n",
            "video 1/1 (182/580) /content/yolov5/../rice.mp4: 384x640 Done. (0.010s)\n",
            "video 1/1 (183/580) /content/yolov5/../rice.mp4: 384x640 Done. (0.010s)\n",
            "video 1/1 (184/580) /content/yolov5/../rice.mp4: 384x640 Done. (0.010s)\n",
            "video 1/1 (185/580) /content/yolov5/../rice.mp4: 384x640 Done. (0.010s)\n",
            "video 1/1 (186/580) /content/yolov5/../rice.mp4: 384x640 Done. (0.010s)\n",
            "video 1/1 (187/580) /content/yolov5/../rice.mp4: 384x640 Done. (0.010s)\n",
            "video 1/1 (188/580) /content/yolov5/../rice.mp4: 384x640 Done. (0.010s)\n",
            "video 1/1 (189/580) /content/yolov5/../rice.mp4: 384x640 Done. (0.010s)\n",
            "video 1/1 (190/580) /content/yolov5/../rice.mp4: 384x640 Done. (0.010s)\n",
            "video 1/1 (191/580) /content/yolov5/../rice.mp4: 384x640 Done. (0.010s)\n",
            "video 1/1 (192/580) /content/yolov5/../rice.mp4: 384x640 Done. (0.010s)\n",
            "video 1/1 (193/580) /content/yolov5/../rice.mp4: 384x640 Done. (0.010s)\n",
            "video 1/1 (194/580) /content/yolov5/../rice.mp4: 384x640 Done. (0.010s)\n",
            "video 1/1 (195/580) /content/yolov5/../rice.mp4: 384x640 Done. (0.010s)\n",
            "video 1/1 (196/580) /content/yolov5/../rice.mp4: 384x640 Done. (0.010s)\n",
            "video 1/1 (197/580) /content/yolov5/../rice.mp4: 384x640 Done. (0.010s)\n",
            "video 1/1 (198/580) /content/yolov5/../rice.mp4: 384x640 Done. (0.010s)\n",
            "video 1/1 (199/580) /content/yolov5/../rice.mp4: 384x640 Done. (0.010s)\n",
            "video 1/1 (200/580) /content/yolov5/../rice.mp4: 384x640 Done. (0.010s)\n",
            "video 1/1 (201/580) /content/yolov5/../rice.mp4: 384x640 Done. (0.010s)\n",
            "video 1/1 (202/580) /content/yolov5/../rice.mp4: 384x640 Done. (0.010s)\n",
            "video 1/1 (203/580) /content/yolov5/../rice.mp4: 384x640 Done. (0.010s)\n",
            "video 1/1 (204/580) /content/yolov5/../rice.mp4: 384x640 Done. (0.010s)\n",
            "video 1/1 (205/580) /content/yolov5/../rice.mp4: 384x640 Done. (0.010s)\n",
            "video 1/1 (206/580) /content/yolov5/../rice.mp4: 384x640 Done. (0.010s)\n",
            "video 1/1 (207/580) /content/yolov5/../rice.mp4: 384x640 Done. (0.010s)\n",
            "video 1/1 (208/580) /content/yolov5/../rice.mp4: 384x640 Done. (0.010s)\n",
            "video 1/1 (209/580) /content/yolov5/../rice.mp4: 384x640 Done. (0.010s)\n",
            "video 1/1 (210/580) /content/yolov5/../rice.mp4: 384x640 Done. (0.010s)\n",
            "video 1/1 (211/580) /content/yolov5/../rice.mp4: 384x640 Done. (0.010s)\n",
            "video 1/1 (212/580) /content/yolov5/../rice.mp4: 384x640 Done. (0.010s)\n",
            "video 1/1 (213/580) /content/yolov5/../rice.mp4: 384x640 Done. (0.010s)\n",
            "video 1/1 (214/580) /content/yolov5/../rice.mp4: 384x640 Done. (0.010s)\n",
            "video 1/1 (215/580) /content/yolov5/../rice.mp4: 384x640 Done. (0.010s)\n",
            "video 1/1 (216/580) /content/yolov5/../rice.mp4: 384x640 Done. (0.010s)\n",
            "video 1/1 (217/580) /content/yolov5/../rice.mp4: 384x640 Done. (0.010s)\n",
            "video 1/1 (218/580) /content/yolov5/../rice.mp4: 384x640 Done. (0.010s)\n",
            "video 1/1 (219/580) /content/yolov5/../rice.mp4: 384x640 Done. (0.010s)\n",
            "video 1/1 (220/580) /content/yolov5/../rice.mp4: 384x640 Done. (0.010s)\n",
            "video 1/1 (221/580) /content/yolov5/../rice.mp4: 384x640 Done. (0.010s)\n",
            "video 1/1 (222/580) /content/yolov5/../rice.mp4: 384x640 Done. (0.010s)\n",
            "video 1/1 (223/580) /content/yolov5/../rice.mp4: 384x640 Done. (0.010s)\n",
            "video 1/1 (224/580) /content/yolov5/../rice.mp4: 384x640 Done. (0.010s)\n",
            "video 1/1 (225/580) /content/yolov5/../rice.mp4: 384x640 Done. (0.010s)\n",
            "video 1/1 (226/580) /content/yolov5/../rice.mp4: 384x640 Done. (0.010s)\n",
            "video 1/1 (227/580) /content/yolov5/../rice.mp4: 384x640 Done. (0.010s)\n",
            "video 1/1 (228/580) /content/yolov5/../rice.mp4: 384x640 Done. (0.010s)\n",
            "video 1/1 (229/580) /content/yolov5/../rice.mp4: 384x640 Done. (0.010s)\n",
            "video 1/1 (230/580) /content/yolov5/../rice.mp4: 384x640 Done. (0.010s)\n",
            "video 1/1 (231/580) /content/yolov5/../rice.mp4: 384x640 Done. (0.010s)\n",
            "video 1/1 (232/580) /content/yolov5/../rice.mp4: 384x640 Done. (0.010s)\n",
            "video 1/1 (233/580) /content/yolov5/../rice.mp4: 384x640 Done. (0.010s)\n",
            "video 1/1 (234/580) /content/yolov5/../rice.mp4: 384x640 Done. (0.010s)\n",
            "video 1/1 (235/580) /content/yolov5/../rice.mp4: 384x640 Done. (0.010s)\n",
            "video 1/1 (236/580) /content/yolov5/../rice.mp4: 384x640 Done. (0.010s)\n",
            "video 1/1 (237/580) /content/yolov5/../rice.mp4: 384x640 Done. (0.010s)\n",
            "video 1/1 (238/580) /content/yolov5/../rice.mp4: 384x640 Done. (0.010s)\n",
            "video 1/1 (239/580) /content/yolov5/../rice.mp4: 384x640 Done. (0.010s)\n",
            "video 1/1 (240/580) /content/yolov5/../rice.mp4: 384x640 Done. (0.010s)\n",
            "video 1/1 (241/580) /content/yolov5/../rice.mp4: 384x640 Done. (0.010s)\n",
            "video 1/1 (242/580) /content/yolov5/../rice.mp4: 384x640 Done. (0.010s)\n",
            "video 1/1 (243/580) /content/yolov5/../rice.mp4: 384x640 Done. (0.010s)\n",
            "video 1/1 (244/580) /content/yolov5/../rice.mp4: 384x640 Done. (0.010s)\n",
            "video 1/1 (245/580) /content/yolov5/../rice.mp4: 384x640 Done. (0.010s)\n",
            "video 1/1 (246/580) /content/yolov5/../rice.mp4: 384x640 Done. (0.010s)\n",
            "video 1/1 (247/580) /content/yolov5/../rice.mp4: 384x640 Done. (0.010s)\n",
            "video 1/1 (248/580) /content/yolov5/../rice.mp4: 384x640 Done. (0.010s)\n",
            "video 1/1 (249/580) /content/yolov5/../rice.mp4: 384x640 Done. (0.010s)\n",
            "video 1/1 (250/580) /content/yolov5/../rice.mp4: 384x640 Done. (0.010s)\n",
            "video 1/1 (251/580) /content/yolov5/../rice.mp4: 384x640 Done. (0.010s)\n",
            "video 1/1 (252/580) /content/yolov5/../rice.mp4: 384x640 Done. (0.010s)\n",
            "video 1/1 (253/580) /content/yolov5/../rice.mp4: 384x640 Done. (0.010s)\n",
            "video 1/1 (254/580) /content/yolov5/../rice.mp4: 384x640 Done. (0.010s)\n",
            "video 1/1 (255/580) /content/yolov5/../rice.mp4: 384x640 Done. (0.010s)\n",
            "video 1/1 (256/580) /content/yolov5/../rice.mp4: 384x640 Done. (0.010s)\n",
            "video 1/1 (257/580) /content/yolov5/../rice.mp4: 384x640 Done. (0.010s)\n",
            "video 1/1 (258/580) /content/yolov5/../rice.mp4: 384x640 Done. (0.010s)\n",
            "video 1/1 (259/580) /content/yolov5/../rice.mp4: 384x640 Done. (0.010s)\n",
            "video 1/1 (260/580) /content/yolov5/../rice.mp4: 384x640 Done. (0.010s)\n",
            "video 1/1 (261/580) /content/yolov5/../rice.mp4: 384x640 Done. (0.010s)\n",
            "video 1/1 (262/580) /content/yolov5/../rice.mp4: 384x640 Done. (0.010s)\n",
            "video 1/1 (263/580) /content/yolov5/../rice.mp4: 384x640 Done. (0.010s)\n",
            "video 1/1 (264/580) /content/yolov5/../rice.mp4: 384x640 Done. (0.010s)\n",
            "video 1/1 (265/580) /content/yolov5/../rice.mp4: 384x640 Done. (0.010s)\n",
            "video 1/1 (266/580) /content/yolov5/../rice.mp4: 384x640 Done. (0.010s)\n",
            "video 1/1 (267/580) /content/yolov5/../rice.mp4: 384x640 Done. (0.010s)\n",
            "video 1/1 (268/580) /content/yolov5/../rice.mp4: 384x640 Done. (0.010s)\n",
            "video 1/1 (269/580) /content/yolov5/../rice.mp4: 384x640 Done. (0.010s)\n",
            "video 1/1 (270/580) /content/yolov5/../rice.mp4: 384x640 Done. (0.010s)\n",
            "video 1/1 (271/580) /content/yolov5/../rice.mp4: 384x640 Done. (0.010s)\n",
            "video 1/1 (272/580) /content/yolov5/../rice.mp4: 384x640 Done. (0.010s)\n",
            "video 1/1 (273/580) /content/yolov5/../rice.mp4: 384x640 Done. (0.010s)\n",
            "video 1/1 (274/580) /content/yolov5/../rice.mp4: 384x640 Done. (0.010s)\n",
            "video 1/1 (275/580) /content/yolov5/../rice.mp4: 384x640 Done. (0.010s)\n",
            "video 1/1 (276/580) /content/yolov5/../rice.mp4: 384x640 Done. (0.010s)\n",
            "video 1/1 (277/580) /content/yolov5/../rice.mp4: 384x640 Done. (0.010s)\n",
            "video 1/1 (278/580) /content/yolov5/../rice.mp4: 384x640 Done. (0.010s)\n",
            "video 1/1 (279/580) /content/yolov5/../rice.mp4: 384x640 Done. (0.010s)\n",
            "video 1/1 (280/580) /content/yolov5/../rice.mp4: 384x640 Done. (0.010s)\n",
            "video 1/1 (281/580) /content/yolov5/../rice.mp4: 384x640 Done. (0.010s)\n",
            "video 1/1 (282/580) /content/yolov5/../rice.mp4: 384x640 Done. (0.010s)\n",
            "video 1/1 (283/580) /content/yolov5/../rice.mp4: 384x640 Done. (0.010s)\n",
            "video 1/1 (284/580) /content/yolov5/../rice.mp4: 384x640 Done. (0.010s)\n",
            "video 1/1 (285/580) /content/yolov5/../rice.mp4: 384x640 Done. (0.010s)\n",
            "video 1/1 (286/580) /content/yolov5/../rice.mp4: 384x640 Done. (0.010s)\n",
            "video 1/1 (287/580) /content/yolov5/../rice.mp4: 384x640 Done. (0.010s)\n",
            "video 1/1 (288/580) /content/yolov5/../rice.mp4: 384x640 Done. (0.010s)\n",
            "video 1/1 (289/580) /content/yolov5/../rice.mp4: 384x640 Done. (0.010s)\n",
            "video 1/1 (290/580) /content/yolov5/../rice.mp4: 384x640 Done. (0.010s)\n",
            "video 1/1 (291/580) /content/yolov5/../rice.mp4: 384x640 Done. (0.010s)\n",
            "video 1/1 (292/580) /content/yolov5/../rice.mp4: 384x640 Done. (0.010s)\n",
            "video 1/1 (293/580) /content/yolov5/../rice.mp4: 384x640 Done. (0.010s)\n",
            "video 1/1 (294/580) /content/yolov5/../rice.mp4: 384x640 Done. (0.010s)\n",
            "video 1/1 (295/580) /content/yolov5/../rice.mp4: 384x640 Done. (0.010s)\n",
            "video 1/1 (296/580) /content/yolov5/../rice.mp4: 384x640 Done. (0.010s)\n",
            "video 1/1 (297/580) /content/yolov5/../rice.mp4: 384x640 Done. (0.010s)\n",
            "video 1/1 (298/580) /content/yolov5/../rice.mp4: 384x640 Done. (0.010s)\n",
            "video 1/1 (299/580) /content/yolov5/../rice.mp4: 384x640 Done. (0.010s)\n",
            "video 1/1 (300/580) /content/yolov5/../rice.mp4: 384x640 Done. (0.010s)\n",
            "video 1/1 (301/580) /content/yolov5/../rice.mp4: 384x640 Done. (0.010s)\n",
            "video 1/1 (302/580) /content/yolov5/../rice.mp4: 384x640 Done. (0.010s)\n",
            "video 1/1 (303/580) /content/yolov5/../rice.mp4: 384x640 Done. (0.010s)\n",
            "video 1/1 (304/580) /content/yolov5/../rice.mp4: 384x640 Done. (0.010s)\n",
            "video 1/1 (305/580) /content/yolov5/../rice.mp4: 384x640 Done. (0.010s)\n",
            "video 1/1 (306/580) /content/yolov5/../rice.mp4: 384x640 Done. (0.010s)\n",
            "video 1/1 (307/580) /content/yolov5/../rice.mp4: 384x640 Done. (0.010s)\n",
            "video 1/1 (308/580) /content/yolov5/../rice.mp4: 384x640 Done. (0.010s)\n",
            "video 1/1 (309/580) /content/yolov5/../rice.mp4: 384x640 Done. (0.010s)\n",
            "video 1/1 (310/580) /content/yolov5/../rice.mp4: 384x640 Done. (0.010s)\n",
            "video 1/1 (311/580) /content/yolov5/../rice.mp4: 384x640 Done. (0.010s)\n",
            "video 1/1 (312/580) /content/yolov5/../rice.mp4: 384x640 Done. (0.010s)\n",
            "video 1/1 (313/580) /content/yolov5/../rice.mp4: 384x640 Done. (0.010s)\n",
            "video 1/1 (314/580) /content/yolov5/../rice.mp4: 384x640 Done. (0.010s)\n",
            "video 1/1 (315/580) /content/yolov5/../rice.mp4: 384x640 Done. (0.010s)\n",
            "video 1/1 (316/580) /content/yolov5/../rice.mp4: 384x640 Done. (0.010s)\n",
            "video 1/1 (317/580) /content/yolov5/../rice.mp4: 384x640 Done. (0.010s)\n",
            "video 1/1 (318/580) /content/yolov5/../rice.mp4: 384x640 Done. (0.010s)\n",
            "video 1/1 (319/580) /content/yolov5/../rice.mp4: 384x640 Done. (0.010s)\n",
            "video 1/1 (320/580) /content/yolov5/../rice.mp4: 384x640 Done. (0.010s)\n",
            "video 1/1 (321/580) /content/yolov5/../rice.mp4: 384x640 Done. (0.010s)\n",
            "video 1/1 (322/580) /content/yolov5/../rice.mp4: 384x640 Done. (0.010s)\n",
            "video 1/1 (323/580) /content/yolov5/../rice.mp4: 384x640 Done. (0.010s)\n",
            "video 1/1 (324/580) /content/yolov5/../rice.mp4: 384x640 Done. (0.010s)\n",
            "video 1/1 (325/580) /content/yolov5/../rice.mp4: 384x640 Done. (0.010s)\n",
            "video 1/1 (326/580) /content/yolov5/../rice.mp4: 384x640 Done. (0.010s)\n",
            "video 1/1 (327/580) /content/yolov5/../rice.mp4: 384x640 Done. (0.010s)\n",
            "video 1/1 (328/580) /content/yolov5/../rice.mp4: 384x640 Done. (0.010s)\n",
            "video 1/1 (329/580) /content/yolov5/../rice.mp4: 384x640 Done. (0.010s)\n",
            "video 1/1 (330/580) /content/yolov5/../rice.mp4: 384x640 Done. (0.010s)\n",
            "video 1/1 (331/580) /content/yolov5/../rice.mp4: 384x640 Done. (0.010s)\n",
            "video 1/1 (332/580) /content/yolov5/../rice.mp4: 384x640 Done. (0.010s)\n",
            "video 1/1 (333/580) /content/yolov5/../rice.mp4: 384x640 Done. (0.010s)\n",
            "video 1/1 (334/580) /content/yolov5/../rice.mp4: 384x640 Done. (0.010s)\n",
            "video 1/1 (335/580) /content/yolov5/../rice.mp4: 384x640 Done. (0.010s)\n",
            "video 1/1 (336/580) /content/yolov5/../rice.mp4: 384x640 Done. (0.010s)\n",
            "video 1/1 (337/580) /content/yolov5/../rice.mp4: 384x640 Done. (0.010s)\n",
            "video 1/1 (338/580) /content/yolov5/../rice.mp4: 384x640 Done. (0.010s)\n",
            "video 1/1 (339/580) /content/yolov5/../rice.mp4: 384x640 Done. (0.010s)\n",
            "video 1/1 (340/580) /content/yolov5/../rice.mp4: 384x640 Done. (0.010s)\n",
            "video 1/1 (341/580) /content/yolov5/../rice.mp4: 384x640 Done. (0.010s)\n",
            "video 1/1 (342/580) /content/yolov5/../rice.mp4: 384x640 Done. (0.010s)\n",
            "video 1/1 (343/580) /content/yolov5/../rice.mp4: 384x640 Done. (0.010s)\n",
            "video 1/1 (344/580) /content/yolov5/../rice.mp4: 384x640 Done. (0.010s)\n",
            "video 1/1 (345/580) /content/yolov5/../rice.mp4: 384x640 Done. (0.010s)\n",
            "video 1/1 (346/580) /content/yolov5/../rice.mp4: 384x640 Done. (0.010s)\n",
            "video 1/1 (347/580) /content/yolov5/../rice.mp4: 384x640 Done. (0.010s)\n",
            "video 1/1 (348/580) /content/yolov5/../rice.mp4: 384x640 Done. (0.010s)\n",
            "video 1/1 (349/580) /content/yolov5/../rice.mp4: 384x640 Done. (0.010s)\n",
            "video 1/1 (350/580) /content/yolov5/../rice.mp4: 384x640 Done. (0.010s)\n",
            "video 1/1 (351/580) /content/yolov5/../rice.mp4: 384x640 Done. (0.010s)\n",
            "video 1/1 (352/580) /content/yolov5/../rice.mp4: 384x640 Done. (0.010s)\n",
            "video 1/1 (353/580) /content/yolov5/../rice.mp4: 384x640 Done. (0.010s)\n",
            "video 1/1 (354/580) /content/yolov5/../rice.mp4: 384x640 Done. (0.010s)\n",
            "video 1/1 (355/580) /content/yolov5/../rice.mp4: 384x640 Done. (0.010s)\n",
            "video 1/1 (356/580) /content/yolov5/../rice.mp4: 384x640 Done. (0.010s)\n",
            "video 1/1 (357/580) /content/yolov5/../rice.mp4: 384x640 Done. (0.010s)\n",
            "video 1/1 (358/580) /content/yolov5/../rice.mp4: 384x640 Done. (0.010s)\n",
            "video 1/1 (359/580) /content/yolov5/../rice.mp4: 384x640 Done. (0.010s)\n",
            "video 1/1 (360/580) /content/yolov5/../rice.mp4: 384x640 Done. (0.010s)\n",
            "video 1/1 (361/580) /content/yolov5/../rice.mp4: 384x640 Done. (0.010s)\n",
            "video 1/1 (362/580) /content/yolov5/../rice.mp4: 384x640 Done. (0.010s)\n",
            "video 1/1 (363/580) /content/yolov5/../rice.mp4: 384x640 Done. (0.010s)\n",
            "video 1/1 (364/580) /content/yolov5/../rice.mp4: 384x640 Done. (0.010s)\n",
            "video 1/1 (365/580) /content/yolov5/../rice.mp4: 384x640 Done. (0.010s)\n",
            "video 1/1 (366/580) /content/yolov5/../rice.mp4: 384x640 Done. (0.010s)\n",
            "video 1/1 (367/580) /content/yolov5/../rice.mp4: 384x640 Done. (0.010s)\n",
            "video 1/1 (368/580) /content/yolov5/../rice.mp4: 384x640 Done. (0.010s)\n",
            "video 1/1 (369/580) /content/yolov5/../rice.mp4: 384x640 Done. (0.010s)\n",
            "video 1/1 (370/580) /content/yolov5/../rice.mp4: 384x640 Done. (0.010s)\n",
            "video 1/1 (371/580) /content/yolov5/../rice.mp4: 384x640 Done. (0.010s)\n",
            "video 1/1 (372/580) /content/yolov5/../rice.mp4: 384x640 Done. (0.010s)\n",
            "video 1/1 (373/580) /content/yolov5/../rice.mp4: 384x640 Done. (0.010s)\n",
            "video 1/1 (374/580) /content/yolov5/../rice.mp4: 384x640 Done. (0.010s)\n",
            "video 1/1 (375/580) /content/yolov5/../rice.mp4: 384x640 Done. (0.010s)\n",
            "video 1/1 (376/580) /content/yolov5/../rice.mp4: 384x640 Done. (0.010s)\n",
            "video 1/1 (377/580) /content/yolov5/../rice.mp4: 384x640 Done. (0.010s)\n",
            "video 1/1 (378/580) /content/yolov5/../rice.mp4: 384x640 Done. (0.010s)\n",
            "video 1/1 (379/580) /content/yolov5/../rice.mp4: 384x640 Done. (0.010s)\n",
            "video 1/1 (380/580) /content/yolov5/../rice.mp4: 384x640 Done. (0.010s)\n",
            "video 1/1 (381/580) /content/yolov5/../rice.mp4: 384x640 Done. (0.010s)\n",
            "video 1/1 (382/580) /content/yolov5/../rice.mp4: 384x640 Done. (0.010s)\n",
            "video 1/1 (383/580) /content/yolov5/../rice.mp4: 384x640 Done. (0.010s)\n",
            "video 1/1 (384/580) /content/yolov5/../rice.mp4: 384x640 Done. (0.010s)\n",
            "video 1/1 (385/580) /content/yolov5/../rice.mp4: 384x640 Done. (0.010s)\n",
            "video 1/1 (386/580) /content/yolov5/../rice.mp4: 384x640 Done. (0.010s)\n",
            "video 1/1 (387/580) /content/yolov5/../rice.mp4: 384x640 Done. (0.010s)\n",
            "video 1/1 (388/580) /content/yolov5/../rice.mp4: 384x640 Done. (0.010s)\n",
            "video 1/1 (389/580) /content/yolov5/../rice.mp4: 384x640 Done. (0.010s)\n",
            "video 1/1 (390/580) /content/yolov5/../rice.mp4: 384x640 Done. (0.010s)\n",
            "video 1/1 (391/580) /content/yolov5/../rice.mp4: 384x640 Done. (0.010s)\n",
            "video 1/1 (392/580) /content/yolov5/../rice.mp4: 384x640 Done. (0.010s)\n",
            "video 1/1 (393/580) /content/yolov5/../rice.mp4: 384x640 Done. (0.010s)\n",
            "video 1/1 (394/580) /content/yolov5/../rice.mp4: 384x640 Done. (0.010s)\n",
            "video 1/1 (395/580) /content/yolov5/../rice.mp4: 384x640 Done. (0.010s)\n",
            "video 1/1 (396/580) /content/yolov5/../rice.mp4: 384x640 Done. (0.010s)\n",
            "video 1/1 (397/580) /content/yolov5/../rice.mp4: 384x640 Done. (0.010s)\n",
            "video 1/1 (398/580) /content/yolov5/../rice.mp4: 384x640 Done. (0.010s)\n",
            "video 1/1 (399/580) /content/yolov5/../rice.mp4: 384x640 Done. (0.010s)\n",
            "video 1/1 (400/580) /content/yolov5/../rice.mp4: 384x640 Done. (0.010s)\n",
            "video 1/1 (401/580) /content/yolov5/../rice.mp4: 384x640 Done. (0.010s)\n",
            "video 1/1 (402/580) /content/yolov5/../rice.mp4: 384x640 Done. (0.010s)\n",
            "video 1/1 (403/580) /content/yolov5/../rice.mp4: 384x640 Done. (0.010s)\n",
            "video 1/1 (404/580) /content/yolov5/../rice.mp4: 384x640 Done. (0.010s)\n",
            "video 1/1 (405/580) /content/yolov5/../rice.mp4: 384x640 Done. (0.010s)\n",
            "video 1/1 (406/580) /content/yolov5/../rice.mp4: 384x640 Done. (0.010s)\n",
            "video 1/1 (407/580) /content/yolov5/../rice.mp4: 384x640 Done. (0.010s)\n",
            "video 1/1 (408/580) /content/yolov5/../rice.mp4: 384x640 Done. (0.010s)\n",
            "video 1/1 (409/580) /content/yolov5/../rice.mp4: 384x640 Done. (0.010s)\n",
            "video 1/1 (410/580) /content/yolov5/../rice.mp4: 384x640 Done. (0.010s)\n",
            "video 1/1 (411/580) /content/yolov5/../rice.mp4: 384x640 Done. (0.010s)\n",
            "video 1/1 (412/580) /content/yolov5/../rice.mp4: 384x640 Done. (0.010s)\n",
            "video 1/1 (413/580) /content/yolov5/../rice.mp4: 384x640 Done. (0.010s)\n",
            "video 1/1 (414/580) /content/yolov5/../rice.mp4: 384x640 Done. (0.010s)\n",
            "video 1/1 (415/580) /content/yolov5/../rice.mp4: 384x640 Done. (0.010s)\n",
            "video 1/1 (416/580) /content/yolov5/../rice.mp4: 384x640 Done. (0.010s)\n",
            "video 1/1 (417/580) /content/yolov5/../rice.mp4: 384x640 Done. (0.010s)\n",
            "video 1/1 (418/580) /content/yolov5/../rice.mp4: 384x640 Done. (0.010s)\n",
            "video 1/1 (419/580) /content/yolov5/../rice.mp4: 384x640 Done. (0.010s)\n",
            "video 1/1 (420/580) /content/yolov5/../rice.mp4: 384x640 Done. (0.010s)\n",
            "video 1/1 (421/580) /content/yolov5/../rice.mp4: 384x640 Done. (0.010s)\n",
            "video 1/1 (422/580) /content/yolov5/../rice.mp4: 384x640 Done. (0.010s)\n",
            "video 1/1 (423/580) /content/yolov5/../rice.mp4: 384x640 Done. (0.010s)\n",
            "video 1/1 (424/580) /content/yolov5/../rice.mp4: 384x640 Done. (0.010s)\n",
            "video 1/1 (425/580) /content/yolov5/../rice.mp4: 384x640 Done. (0.010s)\n",
            "video 1/1 (426/580) /content/yolov5/../rice.mp4: 384x640 Done. (0.010s)\n",
            "video 1/1 (427/580) /content/yolov5/../rice.mp4: 384x640 Done. (0.010s)\n",
            "video 1/1 (428/580) /content/yolov5/../rice.mp4: 384x640 Done. (0.010s)\n",
            "video 1/1 (429/580) /content/yolov5/../rice.mp4: 384x640 Done. (0.010s)\n",
            "video 1/1 (430/580) /content/yolov5/../rice.mp4: 384x640 Done. (0.010s)\n",
            "video 1/1 (431/580) /content/yolov5/../rice.mp4: 384x640 Done. (0.010s)\n",
            "video 1/1 (432/580) /content/yolov5/../rice.mp4: 384x640 Done. (0.010s)\n",
            "video 1/1 (433/580) /content/yolov5/../rice.mp4: 384x640 Done. (0.010s)\n",
            "video 1/1 (434/580) /content/yolov5/../rice.mp4: 384x640 Done. (0.010s)\n",
            "video 1/1 (435/580) /content/yolov5/../rice.mp4: 384x640 Done. (0.010s)\n",
            "video 1/1 (436/580) /content/yolov5/../rice.mp4: 384x640 Done. (0.010s)\n",
            "video 1/1 (437/580) /content/yolov5/../rice.mp4: 384x640 Done. (0.010s)\n",
            "video 1/1 (438/580) /content/yolov5/../rice.mp4: 384x640 Done. (0.010s)\n",
            "video 1/1 (439/580) /content/yolov5/../rice.mp4: 384x640 Done. (0.010s)\n",
            "video 1/1 (440/580) /content/yolov5/../rice.mp4: 384x640 Done. (0.010s)\n",
            "video 1/1 (441/580) /content/yolov5/../rice.mp4: 384x640 Done. (0.010s)\n",
            "video 1/1 (442/580) /content/yolov5/../rice.mp4: 384x640 Done. (0.010s)\n",
            "video 1/1 (443/580) /content/yolov5/../rice.mp4: 384x640 Done. (0.010s)\n",
            "video 1/1 (444/580) /content/yolov5/../rice.mp4: 384x640 Done. (0.010s)\n",
            "video 1/1 (445/580) /content/yolov5/../rice.mp4: 384x640 Done. (0.010s)\n",
            "video 1/1 (446/580) /content/yolov5/../rice.mp4: 384x640 Done. (0.010s)\n",
            "video 1/1 (447/580) /content/yolov5/../rice.mp4: 384x640 Done. (0.010s)\n",
            "video 1/1 (448/580) /content/yolov5/../rice.mp4: 384x640 Done. (0.010s)\n",
            "video 1/1 (449/580) /content/yolov5/../rice.mp4: 384x640 Done. (0.010s)\n",
            "video 1/1 (450/580) /content/yolov5/../rice.mp4: 384x640 Done. (0.010s)\n",
            "video 1/1 (451/580) /content/yolov5/../rice.mp4: 384x640 Done. (0.010s)\n",
            "video 1/1 (452/580) /content/yolov5/../rice.mp4: 384x640 Done. (0.010s)\n",
            "video 1/1 (453/580) /content/yolov5/../rice.mp4: 384x640 Done. (0.010s)\n",
            "video 1/1 (454/580) /content/yolov5/../rice.mp4: 384x640 Done. (0.010s)\n",
            "video 1/1 (455/580) /content/yolov5/../rice.mp4: 384x640 Done. (0.010s)\n",
            "video 1/1 (456/580) /content/yolov5/../rice.mp4: 384x640 Done. (0.010s)\n",
            "video 1/1 (457/580) /content/yolov5/../rice.mp4: 384x640 Done. (0.010s)\n",
            "video 1/1 (458/580) /content/yolov5/../rice.mp4: 384x640 Done. (0.010s)\n",
            "video 1/1 (459/580) /content/yolov5/../rice.mp4: 384x640 Done. (0.010s)\n",
            "video 1/1 (460/580) /content/yolov5/../rice.mp4: 384x640 Done. (0.010s)\n",
            "video 1/1 (461/580) /content/yolov5/../rice.mp4: 384x640 Done. (0.010s)\n",
            "video 1/1 (462/580) /content/yolov5/../rice.mp4: 384x640 Done. (0.010s)\n",
            "video 1/1 (463/580) /content/yolov5/../rice.mp4: 384x640 Done. (0.010s)\n",
            "video 1/1 (464/580) /content/yolov5/../rice.mp4: 384x640 Done. (0.010s)\n",
            "video 1/1 (465/580) /content/yolov5/../rice.mp4: 384x640 Done. (0.010s)\n",
            "video 1/1 (466/580) /content/yolov5/../rice.mp4: 384x640 Done. (0.010s)\n",
            "video 1/1 (467/580) /content/yolov5/../rice.mp4: 384x640 Done. (0.010s)\n",
            "video 1/1 (468/580) /content/yolov5/../rice.mp4: 384x640 Done. (0.010s)\n",
            "video 1/1 (469/580) /content/yolov5/../rice.mp4: 384x640 Done. (0.010s)\n",
            "video 1/1 (470/580) /content/yolov5/../rice.mp4: 384x640 Done. (0.010s)\n",
            "video 1/1 (471/580) /content/yolov5/../rice.mp4: 384x640 Done. (0.010s)\n",
            "video 1/1 (472/580) /content/yolov5/../rice.mp4: 384x640 Done. (0.010s)\n",
            "video 1/1 (473/580) /content/yolov5/../rice.mp4: 384x640 Done. (0.010s)\n",
            "video 1/1 (474/580) /content/yolov5/../rice.mp4: 384x640 Done. (0.010s)\n",
            "video 1/1 (475/580) /content/yolov5/../rice.mp4: 384x640 Done. (0.010s)\n",
            "video 1/1 (476/580) /content/yolov5/../rice.mp4: 384x640 Done. (0.010s)\n",
            "video 1/1 (477/580) /content/yolov5/../rice.mp4: 384x640 Done. (0.010s)\n",
            "video 1/1 (478/580) /content/yolov5/../rice.mp4: 384x640 Done. (0.010s)\n",
            "video 1/1 (479/580) /content/yolov5/../rice.mp4: 384x640 Done. (0.010s)\n",
            "video 1/1 (480/580) /content/yolov5/../rice.mp4: 384x640 Done. (0.010s)\n",
            "video 1/1 (481/580) /content/yolov5/../rice.mp4: 384x640 Done. (0.010s)\n",
            "video 1/1 (482/580) /content/yolov5/../rice.mp4: 384x640 Done. (0.010s)\n",
            "video 1/1 (483/580) /content/yolov5/../rice.mp4: 384x640 Done. (0.010s)\n",
            "video 1/1 (484/580) /content/yolov5/../rice.mp4: 384x640 Done. (0.010s)\n",
            "video 1/1 (485/580) /content/yolov5/../rice.mp4: 384x640 Done. (0.010s)\n",
            "video 1/1 (486/580) /content/yolov5/../rice.mp4: 384x640 Done. (0.010s)\n",
            "video 1/1 (487/580) /content/yolov5/../rice.mp4: 384x640 Done. (0.010s)\n",
            "video 1/1 (488/580) /content/yolov5/../rice.mp4: 384x640 Done. (0.010s)\n",
            "video 1/1 (489/580) /content/yolov5/../rice.mp4: 384x640 Done. (0.010s)\n",
            "video 1/1 (490/580) /content/yolov5/../rice.mp4: 384x640 Done. (0.010s)\n",
            "video 1/1 (491/580) /content/yolov5/../rice.mp4: 384x640 Done. (0.010s)\n",
            "video 1/1 (492/580) /content/yolov5/../rice.mp4: 384x640 Done. (0.010s)\n",
            "video 1/1 (493/580) /content/yolov5/../rice.mp4: 384x640 Done. (0.010s)\n",
            "video 1/1 (494/580) /content/yolov5/../rice.mp4: 384x640 Done. (0.010s)\n",
            "video 1/1 (495/580) /content/yolov5/../rice.mp4: 384x640 Done. (0.010s)\n",
            "video 1/1 (496/580) /content/yolov5/../rice.mp4: 384x640 Done. (0.010s)\n",
            "video 1/1 (497/580) /content/yolov5/../rice.mp4: 384x640 Done. (0.010s)\n",
            "video 1/1 (498/580) /content/yolov5/../rice.mp4: 384x640 Done. (0.010s)\n",
            "video 1/1 (499/580) /content/yolov5/../rice.mp4: 384x640 Done. (0.010s)\n",
            "video 1/1 (500/580) /content/yolov5/../rice.mp4: 384x640 Done. (0.010s)\n",
            "video 1/1 (501/580) /content/yolov5/../rice.mp4: 384x640 Done. (0.010s)\n",
            "video 1/1 (502/580) /content/yolov5/../rice.mp4: 384x640 Done. (0.010s)\n",
            "video 1/1 (503/580) /content/yolov5/../rice.mp4: 384x640 Done. (0.010s)\n",
            "video 1/1 (504/580) /content/yolov5/../rice.mp4: 384x640 Done. (0.010s)\n",
            "video 1/1 (505/580) /content/yolov5/../rice.mp4: 384x640 Done. (0.010s)\n",
            "video 1/1 (506/580) /content/yolov5/../rice.mp4: 384x640 Done. (0.010s)\n",
            "video 1/1 (507/580) /content/yolov5/../rice.mp4: 384x640 Done. (0.010s)\n",
            "video 1/1 (508/580) /content/yolov5/../rice.mp4: 384x640 Done. (0.010s)\n",
            "video 1/1 (509/580) /content/yolov5/../rice.mp4: 384x640 Done. (0.010s)\n",
            "video 1/1 (510/580) /content/yolov5/../rice.mp4: 384x640 Done. (0.011s)\n",
            "video 1/1 (511/580) /content/yolov5/../rice.mp4: 384x640 Done. (0.010s)\n",
            "video 1/1 (512/580) /content/yolov5/../rice.mp4: 384x640 Done. (0.010s)\n",
            "video 1/1 (513/580) /content/yolov5/../rice.mp4: 384x640 Done. (0.010s)\n",
            "video 1/1 (514/580) /content/yolov5/../rice.mp4: 384x640 Done. (0.010s)\n",
            "video 1/1 (515/580) /content/yolov5/../rice.mp4: 384x640 Done. (0.010s)\n",
            "video 1/1 (516/580) /content/yolov5/../rice.mp4: 384x640 Done. (0.010s)\n",
            "video 1/1 (517/580) /content/yolov5/../rice.mp4: 384x640 Done. (0.010s)\n",
            "video 1/1 (518/580) /content/yolov5/../rice.mp4: 384x640 Done. (0.010s)\n",
            "video 1/1 (519/580) /content/yolov5/../rice.mp4: 384x640 Done. (0.010s)\n",
            "video 1/1 (520/580) /content/yolov5/../rice.mp4: 384x640 Done. (0.010s)\n",
            "video 1/1 (521/580) /content/yolov5/../rice.mp4: 384x640 Done. (0.010s)\n",
            "video 1/1 (522/580) /content/yolov5/../rice.mp4: 384x640 Done. (0.010s)\n",
            "video 1/1 (523/580) /content/yolov5/../rice.mp4: 384x640 Done. (0.010s)\n",
            "video 1/1 (524/580) /content/yolov5/../rice.mp4: 384x640 Done. (0.010s)\n",
            "video 1/1 (525/580) /content/yolov5/../rice.mp4: 384x640 Done. (0.010s)\n",
            "video 1/1 (526/580) /content/yolov5/../rice.mp4: 384x640 Done. (0.010s)\n",
            "video 1/1 (527/580) /content/yolov5/../rice.mp4: 384x640 Done. (0.010s)\n",
            "video 1/1 (528/580) /content/yolov5/../rice.mp4: 384x640 Done. (0.010s)\n",
            "video 1/1 (529/580) /content/yolov5/../rice.mp4: 384x640 Done. (0.010s)\n",
            "video 1/1 (530/580) /content/yolov5/../rice.mp4: 384x640 Done. (0.010s)\n",
            "video 1/1 (531/580) /content/yolov5/../rice.mp4: 384x640 Done. (0.010s)\n",
            "video 1/1 (532/580) /content/yolov5/../rice.mp4: 384x640 Done. (0.010s)\n",
            "video 1/1 (533/580) /content/yolov5/../rice.mp4: 384x640 Done. (0.010s)\n",
            "video 1/1 (534/580) /content/yolov5/../rice.mp4: 384x640 Done. (0.010s)\n",
            "video 1/1 (535/580) /content/yolov5/../rice.mp4: 384x640 Done. (0.010s)\n",
            "video 1/1 (536/580) /content/yolov5/../rice.mp4: 384x640 Done. (0.010s)\n",
            "video 1/1 (537/580) /content/yolov5/../rice.mp4: 384x640 Done. (0.010s)\n",
            "video 1/1 (538/580) /content/yolov5/../rice.mp4: 384x640 Done. (0.010s)\n",
            "video 1/1 (539/580) /content/yolov5/../rice.mp4: 384x640 Done. (0.010s)\n",
            "video 1/1 (540/580) /content/yolov5/../rice.mp4: 384x640 Done. (0.010s)\n",
            "video 1/1 (541/580) /content/yolov5/../rice.mp4: 384x640 Done. (0.010s)\n",
            "video 1/1 (542/580) /content/yolov5/../rice.mp4: 384x640 Done. (0.010s)\n",
            "video 1/1 (543/580) /content/yolov5/../rice.mp4: 384x640 Done. (0.010s)\n",
            "video 1/1 (544/580) /content/yolov5/../rice.mp4: 384x640 Done. (0.010s)\n",
            "video 1/1 (545/580) /content/yolov5/../rice.mp4: 384x640 Done. (0.010s)\n",
            "video 1/1 (546/580) /content/yolov5/../rice.mp4: 384x640 Done. (0.010s)\n",
            "video 1/1 (547/580) /content/yolov5/../rice.mp4: 384x640 Done. (0.010s)\n",
            "video 1/1 (548/580) /content/yolov5/../rice.mp4: 384x640 Done. (0.010s)\n",
            "video 1/1 (549/580) /content/yolov5/../rice.mp4: 384x640 Done. (0.010s)\n",
            "video 1/1 (550/580) /content/yolov5/../rice.mp4: 384x640 Done. (0.010s)\n",
            "video 1/1 (551/580) /content/yolov5/../rice.mp4: 384x640 Done. (0.010s)\n",
            "video 1/1 (552/580) /content/yolov5/../rice.mp4: 384x640 Done. (0.010s)\n",
            "video 1/1 (553/580) /content/yolov5/../rice.mp4: 384x640 Done. (0.010s)\n",
            "video 1/1 (554/580) /content/yolov5/../rice.mp4: 384x640 Done. (0.010s)\n",
            "video 1/1 (555/580) /content/yolov5/../rice.mp4: 384x640 Done. (0.010s)\n",
            "video 1/1 (556/580) /content/yolov5/../rice.mp4: 384x640 Done. (0.010s)\n",
            "video 1/1 (557/580) /content/yolov5/../rice.mp4: 384x640 Done. (0.010s)\n",
            "video 1/1 (558/580) /content/yolov5/../rice.mp4: 384x640 Done. (0.010s)\n",
            "video 1/1 (559/580) /content/yolov5/../rice.mp4: 384x640 Done. (0.010s)\n",
            "video 1/1 (560/580) /content/yolov5/../rice.mp4: 384x640 Done. (0.010s)\n",
            "video 1/1 (561/580) /content/yolov5/../rice.mp4: 384x640 Done. (0.010s)\n",
            "video 1/1 (562/580) /content/yolov5/../rice.mp4: 384x640 Done. (0.010s)\n",
            "video 1/1 (563/580) /content/yolov5/../rice.mp4: 384x640 Done. (0.010s)\n",
            "video 1/1 (564/580) /content/yolov5/../rice.mp4: 384x640 Done. (0.010s)\n",
            "video 1/1 (565/580) /content/yolov5/../rice.mp4: 384x640 Done. (0.010s)\n",
            "video 1/1 (566/580) /content/yolov5/../rice.mp4: 384x640 Done. (0.010s)\n",
            "video 1/1 (567/580) /content/yolov5/../rice.mp4: 384x640 Done. (0.010s)\n",
            "video 1/1 (568/580) /content/yolov5/../rice.mp4: 384x640 Done. (0.010s)\n",
            "video 1/1 (569/580) /content/yolov5/../rice.mp4: 384x640 Done. (0.010s)\n",
            "video 1/1 (570/580) /content/yolov5/../rice.mp4: 384x640 Done. (0.010s)\n",
            "video 1/1 (571/580) /content/yolov5/../rice.mp4: 384x640 Done. (0.010s)\n",
            "video 1/1 (572/580) /content/yolov5/../rice.mp4: 384x640 Done. (0.010s)\n",
            "video 1/1 (573/580) /content/yolov5/../rice.mp4: 384x640 Done. (0.010s)\n",
            "video 1/1 (574/580) /content/yolov5/../rice.mp4: 384x640 Done. (0.010s)\n",
            "video 1/1 (575/580) /content/yolov5/../rice.mp4: 384x640 Done. (0.010s)\n",
            "video 1/1 (576/580) /content/yolov5/../rice.mp4: 384x640 Done. (0.010s)\n",
            "video 1/1 (577/580) /content/yolov5/../rice.mp4: 384x640 Done. (0.010s)\n",
            "video 1/1 (578/580) /content/yolov5/../rice.mp4: 384x640 Done. (0.010s)\n",
            "video 1/1 (579/580) /content/yolov5/../rice.mp4: 384x640 Done. (0.010s)\n",
            "video 1/1 (580/580) /content/yolov5/../rice.mp4: 384x640 Done. (0.010s)\n",
            "Results saved to runs/detect/exp2\n",
            "Done. (22.075s)\n"
          ],
          "name": "stdout"
        }
      ]
    },
    {
      "cell_type": "markdown",
      "metadata": {
        "id": "0eq1SMWl6Sfn"
      },
      "source": [
        "# 2. Validate\n",
        "Validate a model's accuracy on [COCO](https://cocodataset.org/#home) val or test-dev datasets. Models are downloaded automatically from the [latest YOLOv5 release](https://github.com/ultralytics/yolov5/releases). To show results by class use the `--verbose` flag. Note that `pycocotools` metrics may be ~1% better than the equivalent repo metrics, as is visible below, due to slight differences in mAP computation."
      ]
    },
    {
      "cell_type": "markdown",
      "metadata": {
        "id": "eyTZYGgRjnMc"
      },
      "source": [
        "## COCO val2017\n",
        "Download [COCO val 2017](https://github.com/ultralytics/yolov5/blob/74b34872fdf41941cddcf243951cdb090fbac17b/data/coco.yaml#L14) dataset (1GB - 5000 images), and test model accuracy."
      ]
    },
    {
      "cell_type": "code",
      "metadata": {
        "id": "WQPtK1QYVaD_",
        "colab": {
          "base_uri": "https://localhost:8080/",
          "height": 66,
          "referenced_widgets": [
            "cef5e9351ca743bcba5febac0b096a30",
            "ec326c52378f4410920c328f221e0514",
            "83000c64a11c4ae8abd6f0ef2f108cef",
            "0f7899eb719f4a9c9852426551f97be9",
            "886ac5b18b3c4c82bf15ad5055f1e17e",
            "4e67b3c3a49849c7a7ba28b7eec96e7a",
            "62c3682ff1804571a483d46664533969",
            "599dda3b608b432393760b2ca4ae7c7d"
          ]
        },
        "outputId": "56b6402a-81d5-41d0-a3c8-8889db1fca6c"
      },
      "source": [
        "# Download COCO val2017\n",
        "torch.hub.download_url_to_file('https://github.com/ultralytics/yolov5/releases/download/v1.0/coco2017val.zip', 'tmp.zip')\n",
        "!unzip -q tmp.zip -d ../datasets && rm tmp.zip"
      ],
      "execution_count": null,
      "outputs": [
        {
          "output_type": "display_data",
          "data": {
            "application/vnd.jupyter.widget-view+json": {
              "model_id": "cef5e9351ca743bcba5febac0b096a30",
              "version_minor": 0,
              "version_major": 2
            },
            "text/plain": [
              "HBox(children=(FloatProgress(value=0.0, max=819257867.0), HTML(value='')))"
            ]
          },
          "metadata": {
            "tags": []
          }
        },
        {
          "output_type": "stream",
          "text": [
            "\n"
          ],
          "name": "stdout"
        }
      ]
    },
    {
      "cell_type": "code",
      "metadata": {
        "id": "X58w8JLpMnjH",
        "colab": {
          "base_uri": "https://localhost:8080/"
        },
        "outputId": "a5d41761-f1a0-41fe-d0bb-4cceebd7c4a6"
      },
      "source": [
        "# Run YOLOv5x on COCO val2017\n",
        "!python val.py --weights yolov5x.pt --data coco.yaml --img 640 --iou 0.65 --half"
      ],
      "execution_count": null,
      "outputs": [
        {
          "output_type": "stream",
          "text": [
            "Namespace(augment=False, batch_size=32, conf_thres=0.001, data='./data/coco.yaml', device='', exist_ok=False, half=True, img_size=640, iou_thres=0.65, name='exp', project='runs/val', save_conf=False, save_hybrid=False, save_json=True, save_txt=False, single_cls=False, task='val', verbose=False, weights=['yolov5x.pt'])\n",
            "YOLOv5 🚀 v5.0-157-gc6b51f4 torch 1.8.1+cu101 CUDA:0 (Tesla V100-SXM2-16GB, 16160.5MB)\n",
            "\n",
            "Downloading https://github.com/ultralytics/yolov5/releases/download/v5.0/yolov5x.pt to yolov5x.pt...\n",
            "100% 168M/168M [00:01<00:00, 156MB/s]\n",
            "\n",
            "Fusing layers... \n",
            "Model Summary: 476 layers, 87730285 parameters, 0 gradients\n",
            "\u001b[34m\u001b[1mval: \u001b[0mScanning '../coco/val2017' images and labels...4952 found, 48 missing, 0 empty, 0 corrupted: 100% 5000/5000 [00:01<00:00, 3008.87it/s]\n",
            "\u001b[34m\u001b[1mval: \u001b[0mNew cache created: ../coco/val2017.cache\n",
            "               Class     Images     Labels          P          R     mAP@.5 mAP@.5:.95: 100% 157/157 [01:17<00:00,  2.02it/s]\n",
            "                 all       5000      36335      0.746      0.626       0.68       0.49\n",
            "Speed: 5.3/1.5/6.8 ms inference/NMS/total per 640x640 image at batch-size 32\n",
            "\n",
            "Evaluating pycocotools mAP... saving runs/val/exp/yolov5x_predictions.json...\n",
            "loading annotations into memory...\n",
            "Done (t=0.44s)\n",
            "creating index...\n",
            "index created!\n",
            "Loading and preparing results...\n",
            "DONE (t=4.88s)\n",
            "creating index...\n",
            "index created!\n",
            "Running per image evaluation...\n",
            "Evaluate annotation type *bbox*\n",
            "DONE (t=83.47s).\n",
            "Accumulating evaluation results...\n",
            "DONE (t=12.96s).\n",
            " Average Precision  (AP) @[ IoU=0.50:0.95 | area=   all | maxDets=100 ] = 0.504\n",
            " Average Precision  (AP) @[ IoU=0.50      | area=   all | maxDets=100 ] = 0.688\n",
            " Average Precision  (AP) @[ IoU=0.75      | area=   all | maxDets=100 ] = 0.546\n",
            " Average Precision  (AP) @[ IoU=0.50:0.95 | area= small | maxDets=100 ] = 0.351\n",
            " Average Precision  (AP) @[ IoU=0.50:0.95 | area=medium | maxDets=100 ] = 0.551\n",
            " Average Precision  (AP) @[ IoU=0.50:0.95 | area= large | maxDets=100 ] = 0.644\n",
            " Average Recall     (AR) @[ IoU=0.50:0.95 | area=   all | maxDets=  1 ] = 0.382\n",
            " Average Recall     (AR) @[ IoU=0.50:0.95 | area=   all | maxDets= 10 ] = 0.629\n",
            " Average Recall     (AR) @[ IoU=0.50:0.95 | area=   all | maxDets=100 ] = 0.681\n",
            " Average Recall     (AR) @[ IoU=0.50:0.95 | area= small | maxDets=100 ] = 0.524\n",
            " Average Recall     (AR) @[ IoU=0.50:0.95 | area=medium | maxDets=100 ] = 0.735\n",
            " Average Recall     (AR) @[ IoU=0.50:0.95 | area= large | maxDets=100 ] = 0.827\n",
            "Results saved to runs/val/exp\n"
          ],
          "name": "stdout"
        }
      ]
    },
    {
      "cell_type": "markdown",
      "metadata": {
        "id": "rc_KbFk0juX2"
      },
      "source": [
        "## COCO test-dev2017\n",
        "Download [COCO test2017](https://github.com/ultralytics/yolov5/blob/74b34872fdf41941cddcf243951cdb090fbac17b/data/coco.yaml#L15) dataset (7GB - 40,000 images), to test model accuracy on test-dev set (**20,000 images, no labels**). Results are saved to a `*.json` file which should be **zipped** and submitted to the evaluation server at https://competitions.codalab.org/competitions/20794."
      ]
    },
    {
      "cell_type": "code",
      "metadata": {
        "id": "V0AJnSeCIHyJ"
      },
      "source": [
        "# Download COCO test-dev2017\n",
        "torch.hub.download_url_to_file('https://github.com/ultralytics/yolov5/releases/download/v1.0/coco2017labels.zip', 'tmp.zip')\n",
        "!unzip -q tmp.zip -d ../ && rm tmp.zip # unzip labels\n",
        "!f=\"test2017.zip\" && curl http://images.cocodataset.org/zips/$f -o $f && unzip -q $f && rm $f  # 7GB,  41k images\n",
        "%mv ./test2017 ../coco/images  # move to /coco"
      ],
      "execution_count": null,
      "outputs": []
    },
    {
      "cell_type": "code",
      "metadata": {
        "id": "29GJXAP_lPrt"
      },
      "source": [
        "# Run YOLOv5s on COCO test-dev2017 using --task test\n",
        "!python val.py --weights yolov5s.pt --data coco.yaml --task test"
      ],
      "execution_count": null,
      "outputs": []
    },
    {
      "cell_type": "markdown",
      "metadata": {
        "id": "VUOiNLtMP5aG"
      },
      "source": [
        "# 3. Train\n",
        "\n",
        "Download [COCO128](https://www.kaggle.com/ultralytics/coco128), a small 128-image tutorial dataset, start tensorboard and train YOLOv5s from a pretrained checkpoint for 3 epochs (note actual training is typically much longer, around **300-1000 epochs**, depending on your dataset)."
      ]
    },
    {
      "cell_type": "code",
      "metadata": {
        "id": "HszN0phs-gmM",
        "colab": {
          "base_uri": "https://localhost:8080/"
        },
        "outputId": "9b44a4b4-b74a-4598-d12c-4735fafc488a"
      },
      "source": [
        "from google.colab import drive\n",
        "drive.mount('/content/drive')"
      ],
      "execution_count": null,
      "outputs": [
        {
          "output_type": "stream",
          "text": [
            "Mounted at /content/drive\n"
          ],
          "name": "stdout"
        }
      ]
    },
    {
      "cell_type": "code",
      "metadata": {
        "id": "Knxi2ncxWffW",
        "colab": {
          "base_uri": "https://localhost:8080/",
          "height": 66,
          "referenced_widgets": [
            "217ca488c82a4b7a80318b70887a556e",
            "4e63af16f1084ca98a6fa5a282f2a81e",
            "49f4b3c7f6ff42b4b9132a8550e12186",
            "8ec9e1a4883245daaf029458ee09721f",
            "9d3e775ee11e4cf4b587b64fbc3cc6f7",
            "70f68a9a51ac46e6ab7e51fb4fc6bda3",
            "fdb8ab377c114bc3b862ba76eb93cef7",
            "cd267c153c244621a1f50706d2ddc897"
          ]
        },
        "outputId": "9e4788c2-e1d4-4a13-c3d2-984f5df7ffab"
      },
      "source": [
        "# Download COCO128\n",
        "torch.hub.download_url_to_file('https://github.com/ultralytics/yolov5/releases/download/v1.0/coco128.zip', 'tmp.zip')\n",
        "!unzip -q tmp.zip -d ../ && rm tmp.zip"
      ],
      "execution_count": null,
      "outputs": [
        {
          "output_type": "display_data",
          "data": {
            "application/vnd.jupyter.widget-view+json": {
              "model_id": "217ca488c82a4b7a80318b70887a556e",
              "version_minor": 0,
              "version_major": 2
            },
            "text/plain": [
              "HBox(children=(FloatProgress(value=0.0, max=22091032.0), HTML(value='')))"
            ]
          },
          "metadata": {
            "tags": []
          }
        },
        {
          "output_type": "stream",
          "text": [
            "\n"
          ],
          "name": "stdout"
        }
      ]
    },
    {
      "cell_type": "markdown",
      "metadata": {
        "id": "_pOkGLv1dMqh"
      },
      "source": [
        "Train a YOLOv5s model on [COCO128](https://www.kaggle.com/ultralytics/coco128) with `--data coco128.yaml`, starting from pretrained `--weights yolov5s.pt`, or from randomly initialized `--weights '' --cfg yolov5s.yaml`. Models are downloaded automatically from the [latest YOLOv5 release](https://github.com/ultralytics/yolov5/releases), and **COCO, COCO128, and VOC datasets are downloaded automatically** on first use.\n",
        "\n",
        "All training results are saved to `runs/train/` with incrementing run directories, i.e. `runs/train/exp2`, `runs/train/exp3` etc.\n"
      ]
    },
    {
      "cell_type": "code",
      "metadata": {
        "id": "bOy5KI2ncnWd"
      },
      "source": [
        "# Tensorboard  (optional)\n",
        "%load_ext tensorboard\n",
        "%tensorboard --logdir runs/train"
      ],
      "execution_count": null,
      "outputs": []
    },
    {
      "cell_type": "code",
      "metadata": {
        "id": "2fLAV42oNb7M"
      },
      "source": [
        "# Weights & Biases  (optional)\n",
        "%pip install -q wandb\n",
        "import wandb\n",
        "wandb.login()"
      ],
      "execution_count": null,
      "outputs": []
    },
    {
      "cell_type": "code",
      "metadata": {
        "id": "1NcFxRcFdJ_O",
        "colab": {
          "base_uri": "https://localhost:8080/"
        },
        "outputId": "4c0707bc-40de-49c4-aaf7-4d474ce6d054"
      },
      "source": [
        "# Train YOLOv5s on COCO128 for 3 epochs\n",
        "!python train.py --img 640 --batch 16 --epochs 20 --data train.yaml --weights yolov5s.pt --cache"
      ],
      "execution_count": null,
      "outputs": [
        {
          "output_type": "stream",
          "text": [
            "\u001b[34m\u001b[1mtrain: \u001b[0mweights=yolov5s.pt, cfg=, data=train.yaml, hyp=data/hyps/hyp.scratch.yaml, epochs=20, batch_size=16, img_size=[640], rect=False, resume=False, nosave=False, noval=False, noautoanchor=False, evolve=None, bucket=, cache_images=True, image_weights=False, device=, multi_scale=False, single_cls=False, adam=False, sync_bn=False, workers=8, project=runs/train, entity=None, name=exp, exist_ok=False, quad=False, linear_lr=False, label_smoothing=0.0, upload_dataset=False, bbox_interval=-1, save_period=-1, artifact_alias=latest, local_rank=-1\n",
            "\u001b[34m\u001b[1mgithub: \u001b[0mup to date with https://github.com/ultralytics/yolov5 ✅\n",
            "YOLOv5 🚀 v5.0-295-g9dd33fd torch 1.9.0+cu102 CUDA:0 (Tesla T4, 15109.75MB)\n",
            "\n",
            "\u001b[34m\u001b[1mhyperparameters: \u001b[0mlr0=0.01, lrf=0.2, momentum=0.937, weight_decay=0.0005, warmup_epochs=3.0, warmup_momentum=0.8, warmup_bias_lr=0.1, box=0.05, cls=0.5, cls_pw=1.0, obj=1.0, obj_pw=1.0, iou_t=0.2, anchor_t=4.0, fl_gamma=0.0, hsv_h=0.015, hsv_s=0.7, hsv_v=0.4, degrees=0.0, translate=0.1, scale=0.5, shear=0.0, perspective=0.0, flipud=0.0, fliplr=0.5, mosaic=1.0, mixup=0.0, copy_paste=0.0\n",
            "\u001b[34m\u001b[1mtensorboard: \u001b[0mStart with 'tensorboard --logdir runs/train', view at http://localhost:6006/\n",
            "2021-07-18 16:41:10.660463: I tensorflow/stream_executor/platform/default/dso_loader.cc:53] Successfully opened dynamic library libcudart.so.11.0\n",
            "\u001b[34m\u001b[1mwandb: \u001b[0mInstall Weights & Biases for YOLOv5 logging with 'pip install wandb' (recommended)\n",
            "Downloading https://github.com/ultralytics/yolov5/releases/download/v5.0/yolov5s.pt to yolov5s.pt...\n",
            "100% 14.1M/14.1M [00:00<00:00, 40.6MB/s]\n",
            "\n",
            "Overriding model.yaml nc=80 with nc=1\n",
            "\n",
            "                 from  n    params  module                                  arguments                     \n",
            "  0                -1  1      3520  models.common.Focus                     [3, 32, 3]                    \n",
            "  1                -1  1     18560  models.common.Conv                      [32, 64, 3, 2]                \n",
            "  2                -1  1     18816  models.common.C3                        [64, 64, 1]                   \n",
            "  3                -1  1     73984  models.common.Conv                      [64, 128, 3, 2]               \n",
            "  4                -1  1    156928  models.common.C3                        [128, 128, 3]                 \n",
            "  5                -1  1    295424  models.common.Conv                      [128, 256, 3, 2]              \n",
            "  6                -1  1    625152  models.common.C3                        [256, 256, 3]                 \n",
            "  7                -1  1   1180672  models.common.Conv                      [256, 512, 3, 2]              \n",
            "  8                -1  1    656896  models.common.SPP                       [512, 512, [5, 9, 13]]        \n",
            "  9                -1  1   1182720  models.common.C3                        [512, 512, 1, False]          \n",
            " 10                -1  1    131584  models.common.Conv                      [512, 256, 1, 1]              \n",
            " 11                -1  1         0  torch.nn.modules.upsampling.Upsample    [None, 2, 'nearest']          \n",
            " 12           [-1, 6]  1         0  models.common.Concat                    [1]                           \n",
            " 13                -1  1    361984  models.common.C3                        [512, 256, 1, False]          \n",
            " 14                -1  1     33024  models.common.Conv                      [256, 128, 1, 1]              \n",
            " 15                -1  1         0  torch.nn.modules.upsampling.Upsample    [None, 2, 'nearest']          \n",
            " 16           [-1, 4]  1         0  models.common.Concat                    [1]                           \n",
            " 17                -1  1     90880  models.common.C3                        [256, 128, 1, False]          \n",
            " 18                -1  1    147712  models.common.Conv                      [128, 128, 3, 2]              \n",
            " 19          [-1, 14]  1         0  models.common.Concat                    [1]                           \n",
            " 20                -1  1    296448  models.common.C3                        [256, 256, 1, False]          \n",
            " 21                -1  1    590336  models.common.Conv                      [256, 256, 3, 2]              \n",
            " 22          [-1, 10]  1         0  models.common.Concat                    [1]                           \n",
            " 23                -1  1   1182720  models.common.C3                        [512, 512, 1, False]          \n",
            " 24      [17, 20, 23]  1     16182  models.yolo.Detect                      [1, [[10, 13, 16, 30, 33, 23], [30, 61, 62, 45, 59, 119], [116, 90, 156, 198, 373, 326]], [128, 256, 512]]\n",
            "/usr/local/lib/python3.7/dist-packages/torch/nn/functional.py:718: UserWarning: Named tensors and all their associated APIs are an experimental feature and subject to change. Please do not use them for anything important until they are released as stable. (Triggered internally at  /pytorch/c10/core/TensorImpl.h:1156.)\n",
            "  return torch.max_pool2d(input, kernel_size, stride, padding, dilation, ceil_mode)\n",
            "Model Summary: 283 layers, 7063542 parameters, 7063542 gradients, 16.4 GFLOPs\n",
            "\n",
            "Transferred 356/362 items from yolov5s.pt\n",
            "Scaled weight_decay = 0.0005\n",
            "Optimizer groups: 62 .bias, 62 conv.weight, 59 other\n",
            "\u001b[34m\u001b[1malbumentations: \u001b[0mversion 1.0.2 required by YOLOv5, but version 0.1.12 is currently installed\n",
            "\u001b[34m\u001b[1mtrain: \u001b[0mScanning '../train_data/labels/train' images and labels...5 found, 0 missing, 0 empty, 0 corrupted: 100% 5/5 [00:00<00:00, 176.33it/s]\n",
            "\u001b[34m\u001b[1mtrain: \u001b[0mNew cache created: ../train_data/labels/train.cache\n",
            "\u001b[34m\u001b[1mtrain: \u001b[0mCaching images (0.0GB): 100% 5/5 [00:00<00:00, 33.56it/s]\n",
            "\u001b[34m\u001b[1mval: \u001b[0mScanning '../train_data/labels/val' images and labels...3 found, 2 missing, 0 empty, 0 corrupted: 100% 5/5 [00:00<00:00, 70.93it/s]\n",
            "\u001b[34m\u001b[1mval: \u001b[0mNew cache created: ../train_data/labels/val.cache\n",
            "\u001b[34m\u001b[1mval: \u001b[0mCaching images (0.0GB): 100% 5/5 [00:00<00:00, 23.33it/s]\n",
            "[W pthreadpool-cpp.cc:90] Warning: Leaking Caffe2 thread-pool after fork. (function pthreadpool)\n",
            "[W pthreadpool-cpp.cc:90] Warning: Leaking Caffe2 thread-pool after fork. (function pthreadpool)\n",
            "Plotting labels... \n",
            "\n",
            "\u001b[34m\u001b[1mautoanchor: \u001b[0mAnalyzing anchors... anchors/target = 3.21, Best Possible Recall (BPR) = 1.0000\n",
            "Image sizes 640 train, 640 val\n",
            "Using 2 dataloader workers\n",
            "Logging results to runs/train/exp\n",
            "Starting training for 20 epochs...\n",
            "\n",
            "     Epoch   gpu_mem       box       obj       cls     total    labels  img_size\n",
            "      0/19     1.06G   0.07048    0.0408         0    0.1113        28       640: 100% 1/1 [00:02<00:00,  2.51s/it]\n",
            "               Class     Images     Labels          P          R     mAP@.5 mAP@.5:.95: 100% 1/1 [00:00<00:00,  7.57it/s]\n",
            "                 all          5          8    0.00277        0.5    0.00144   0.000199\n",
            "\n",
            "     Epoch   gpu_mem       box       obj       cls     total    labels  img_size\n",
            "      1/19     1.17G    0.1149   0.04722         0    0.1621        37       640: 100% 1/1 [00:00<00:00,  5.94it/s]\n",
            "               Class     Images     Labels          P          R     mAP@.5 mAP@.5:.95: 100% 1/1 [00:00<00:00,  6.14it/s]\n",
            "                 all          5          8    0.00227      0.375   0.000862   0.000125\n",
            "\n",
            "     Epoch   gpu_mem       box       obj       cls     total    labels  img_size\n",
            "      2/19     1.17G    0.1166   0.04301         0    0.1596        36       640: 100% 1/1 [00:00<00:00,  8.15it/s]\n",
            "               Class     Images     Labels          P          R     mAP@.5 mAP@.5:.95: 100% 1/1 [00:00<00:00,  7.30it/s]\n",
            "                 all          5          8     0.0015       0.25   0.000381   7.69e-05\n",
            "\n",
            "     Epoch   gpu_mem       box       obj       cls     total    labels  img_size\n",
            "      3/19     1.17G    0.1142   0.03087         0    0.1451        17       640: 100% 1/1 [00:00<00:00,  8.91it/s]\n",
            "               Class     Images     Labels          P          R     mAP@.5 mAP@.5:.95: 100% 1/1 [00:00<00:00, 10.48it/s]\n",
            "                 all          5          8     0.0015       0.25   0.000383   7.74e-05\n",
            "\n",
            "     Epoch   gpu_mem       box       obj       cls     total    labels  img_size\n",
            "      4/19     1.17G    0.1099    0.0356         0    0.1455        22       640: 100% 1/1 [00:00<00:00,  7.17it/s]\n",
            "               Class     Images     Labels          P          R     mAP@.5 mAP@.5:.95: 100% 1/1 [00:00<00:00,  9.40it/s]\n",
            "                 all          5          8    0.00149       0.25   0.000383   7.73e-05\n",
            "\n",
            "     Epoch   gpu_mem       box       obj       cls     total    labels  img_size\n",
            "      5/19     1.17G    0.1153   0.03674         0     0.152        27       640: 100% 1/1 [00:00<00:00,  7.92it/s]\n",
            "               Class     Images     Labels          P          R     mAP@.5 mAP@.5:.95: 100% 1/1 [00:00<00:00,  9.34it/s]\n",
            "                 all          5          8     0.0014       0.25   0.000379   7.66e-05\n",
            "\n",
            "     Epoch   gpu_mem       box       obj       cls     total    labels  img_size\n",
            "      6/19     1.17G    0.1168   0.04269         0    0.1595        35       640: 100% 1/1 [00:00<00:00,  9.18it/s]\n",
            "               Class     Images     Labels          P          R     mAP@.5 mAP@.5:.95: 100% 1/1 [00:00<00:00, 10.22it/s]\n",
            "                 all          5          8   0.000702      0.125   9.52e-05   4.76e-05\n",
            "\n",
            "     Epoch   gpu_mem       box       obj       cls     total    labels  img_size\n",
            "      7/19     1.17G    0.1185   0.03481         0    0.1534        23       640: 100% 1/1 [00:00<00:00,  9.43it/s]\n",
            "               Class     Images     Labels          P          R     mAP@.5 mAP@.5:.95: 100% 1/1 [00:00<00:00, 11.23it/s]\n",
            "                 all          5          8   0.000702      0.125   9.34e-05   4.67e-05\n",
            "\n",
            "     Epoch   gpu_mem       box       obj       cls     total    labels  img_size\n",
            "      8/19     1.17G   0.07303   0.03462         0    0.1076        26       640: 100% 1/1 [00:00<00:00,  9.07it/s]\n",
            "               Class     Images     Labels          P          R     mAP@.5 mAP@.5:.95: 100% 1/1 [00:00<00:00, 10.05it/s]\n",
            "                 all          5          8   0.000695      0.125   9.05e-05   5.43e-05\n",
            "\n",
            "     Epoch   gpu_mem       box       obj       cls     total    labels  img_size\n",
            "      9/19     1.17G    0.1221   0.04674         0    0.1689        41       640: 100% 1/1 [00:00<00:00,  9.36it/s]\n",
            "               Class     Images     Labels          P          R     mAP@.5 mAP@.5:.95: 100% 1/1 [00:00<00:00, 11.19it/s]\n",
            "                 all          5          8   0.000669      0.125   8.89e-05   5.34e-05\n",
            "\n",
            "     Epoch   gpu_mem       box       obj       cls     total    labels  img_size\n",
            "     10/19     1.17G    0.1171   0.04065         0    0.1577        31       640: 100% 1/1 [00:00<00:00,  7.98it/s]\n",
            "               Class     Images     Labels          P          R     mAP@.5 mAP@.5:.95: 100% 1/1 [00:00<00:00,  9.61it/s]\n",
            "                 all          5          8   0.000667      0.125   8.73e-05   5.24e-05\n",
            "\n",
            "     Epoch   gpu_mem       box       obj       cls     total    labels  img_size\n",
            "     11/19     1.17G    0.1104   0.03665         0    0.1471        25       640: 100% 1/1 [00:00<00:00,  8.36it/s]\n",
            "               Class     Images     Labels          P          R     mAP@.5 mAP@.5:.95: 100% 1/1 [00:00<00:00, 10.46it/s]\n",
            "                 all          5          8   0.000667      0.125   8.82e-05   2.65e-05\n",
            "\n",
            "     Epoch   gpu_mem       box       obj       cls     total    labels  img_size\n",
            "     12/19     1.17G    0.1222   0.03412         0    0.1564        21       640: 100% 1/1 [00:00<00:00,  8.99it/s]\n",
            "               Class     Images     Labels          P          R     mAP@.5 mAP@.5:.95: 100% 1/1 [00:00<00:00, 10.37it/s]\n",
            "                 all          5          8   0.000667      0.125   8.81e-05   4.41e-05\n",
            "\n",
            "     Epoch   gpu_mem       box       obj       cls     total    labels  img_size\n",
            "     13/19     1.17G    0.1174   0.04606         0    0.1634        39       640: 100% 1/1 [00:00<00:00,  6.90it/s]\n",
            "               Class     Images     Labels          P          R     mAP@.5 mAP@.5:.95: 100% 1/1 [00:00<00:00,  9.69it/s]\n",
            "                 all          5          8   0.000667      0.125    8.8e-05    4.4e-05\n",
            "\n",
            "     Epoch   gpu_mem       box       obj       cls     total    labels  img_size\n",
            "     14/19     1.17G    0.1123   0.04427         0    0.1565        33       640: 100% 1/1 [00:00<00:00,  7.73it/s]\n",
            "               Class     Images     Labels          P          R     mAP@.5 mAP@.5:.95: 100% 1/1 [00:00<00:00,  9.99it/s]\n",
            "                 all          5          8   0.000667      0.125   8.77e-05   4.38e-05\n",
            "\n",
            "     Epoch   gpu_mem       box       obj       cls     total    labels  img_size\n",
            "     15/19     1.17G     0.117   0.03347         0    0.1505        21       640: 100% 1/1 [00:00<00:00,  8.37it/s]\n",
            "               Class     Images     Labels          P          R     mAP@.5 mAP@.5:.95: 100% 1/1 [00:00<00:00, 10.45it/s]\n",
            "                 all          5          8   0.000667      0.125   8.89e-05   4.45e-05\n",
            "\n",
            "     Epoch   gpu_mem       box       obj       cls     total    labels  img_size\n",
            "     16/19     1.17G    0.1171    0.0419         0     0.159        37       640: 100% 1/1 [00:00<00:00,  8.18it/s]\n",
            "               Class     Images     Labels          P          R     mAP@.5 mAP@.5:.95: 100% 1/1 [00:00<00:00, 10.75it/s]\n",
            "                 all          5          8   0.000667      0.125    8.8e-05    4.4e-05\n",
            "\n",
            "     Epoch   gpu_mem       box       obj       cls     total    labels  img_size\n",
            "     17/19     1.17G    0.1251   0.03127         0    0.1563        21       640: 100% 1/1 [00:00<00:00,  9.01it/s]\n",
            "               Class     Images     Labels          P          R     mAP@.5 mAP@.5:.95: 100% 1/1 [00:00<00:00, 10.98it/s]\n",
            "                 all          5          8    0.00107      0.125   0.000145   1.45e-05\n",
            "\n",
            "     Epoch   gpu_mem       box       obj       cls     total    labels  img_size\n",
            "     18/19     1.17G    0.1179    0.0509         0    0.1688        44       640: 100% 1/1 [00:00<00:00,  6.51it/s]\n",
            "               Class     Images     Labels          P          R     mAP@.5 mAP@.5:.95: 100% 1/1 [00:00<00:00,  9.69it/s]\n",
            "                 all          5          8    0.00104      0.125   0.000136   1.36e-05\n",
            "\n",
            "     Epoch   gpu_mem       box       obj       cls     total    labels  img_size\n",
            "     19/19     1.17G     0.118   0.04214         0    0.1602        32       640: 100% 1/1 [00:00<00:00,  7.34it/s]\n",
            "               Class     Images     Labels          P          R     mAP@.5 mAP@.5:.95: 100% 1/1 [00:00<00:00,  5.69it/s]\n",
            "                 all          5          8    0.00103      0.125   0.000135   1.35e-05\n",
            "20 epochs completed in 0.008 hours.\n",
            "\n",
            "Optimizer stripped from runs/train/exp/weights/last.pt, 14.4MB\n",
            "Optimizer stripped from runs/train/exp/weights/best.pt, 14.4MB\n"
          ],
          "name": "stdout"
        }
      ]
    },
    {
      "cell_type": "markdown",
      "metadata": {
        "id": "15glLzbQx5u0"
      },
      "source": [
        "# 4. Visualize"
      ]
    },
    {
      "cell_type": "markdown",
      "metadata": {
        "id": "DLI1JmHU7B0l"
      },
      "source": [
        "## Weights & Biases Logging 🌟 NEW\n",
        "\n",
        "[Weights & Biases](https://wandb.ai/site?utm_campaign=repo_yolo_notebook) (W&B) is now integrated with YOLOv5 for real-time visualization and cloud logging of training runs. This allows for better run comparison and introspection, as well improved visibility and collaboration for teams. To enable W&B `pip install wandb`, and then train normally (you will be guided through setup on first use). \n",
        "\n",
        "During training you will see live updates at [https://wandb.ai/home](https://wandb.ai/home?utm_campaign=repo_yolo_notebook), and you can create and share detailed [Reports](https://wandb.ai/glenn-jocher/yolov5_tutorial/reports/YOLOv5-COCO128-Tutorial-Results--VmlldzozMDI5OTY) of your results. For more information see the [YOLOv5 Weights & Biases Tutorial](https://github.com/ultralytics/yolov5/issues/1289). \n",
        "\n",
        "<img src=\"https://user-images.githubusercontent.com/26833433/125274843-a27bc600-e30e-11eb-9a44-62af0b7a50a2.png\" width=\"800\">"
      ]
    },
    {
      "cell_type": "markdown",
      "metadata": {
        "id": "-WPvRbS5Swl6"
      },
      "source": [
        "## Local Logging\n",
        "\n",
        "All results are logged by default to `runs/train`, with a new experiment directory created for each new training as `runs/train/exp2`, `runs/train/exp3`, etc. View train and val jpgs to see mosaics, labels, predictions and augmentation effects. Note a **Mosaic Dataloader** is used for training (shown below), a new concept developed by Ultralytics and first featured in [YOLOv4](https://arxiv.org/abs/2004.10934)."
      ]
    },
    {
      "cell_type": "code",
      "metadata": {
        "id": "riPdhraOTCO0"
      },
      "source": [
        "Image(filename='runs/train/exp/train_batch0.jpg', width=800)  # train batch 0 mosaics and labels\n",
        "Image(filename='runs/train/exp/test_batch0_labels.jpg', width=800)  # val batch 0 labels\n",
        "Image(filename='runs/train/exp/test_batch0_pred.jpg', width=800)  # val batch 0 predictions"
      ],
      "execution_count": null,
      "outputs": []
    },
    {
      "cell_type": "markdown",
      "metadata": {
        "id": "OYG4WFEnTVrI"
      },
      "source": [
        "> <img src=\"https://user-images.githubusercontent.com/26833433/124931219-48bf8700-e002-11eb-84f0-e05d95b118dd.jpg\" width=\"700\">  \n",
        "`train_batch0.jpg` shows train batch 0 mosaics and labels\n",
        "\n",
        "> <img src=\"https://user-images.githubusercontent.com/26833433/124931217-4826f080-e002-11eb-87b9-ae0925a8c94b.jpg\" width=\"700\">  \n",
        "`test_batch0_labels.jpg` shows val batch 0 labels\n",
        "\n",
        "> <img src=\"https://user-images.githubusercontent.com/26833433/124931209-46f5c380-e002-11eb-9bd5-7a3de2be9851.jpg\" width=\"700\">  \n",
        "`test_batch0_pred.jpg` shows val batch 0 _predictions_"
      ]
    },
    {
      "cell_type": "markdown",
      "metadata": {
        "id": "7KN5ghjE6ZWh"
      },
      "source": [
        "Training results are automatically logged to [Tensorboard](https://www.tensorflow.org/tensorboard) and `runs/train/exp/results.txt`, which is plotted as `results.png` (below) after training completes. You can also plot any `results.txt` file manually:"
      ]
    },
    {
      "cell_type": "code",
      "metadata": {
        "id": "MDznIqPF7nk3"
      },
      "source": [
        "from utils.plots import plot_results \n",
        "plot_results(save_dir='runs/train/exp')  # plot all results*.txt files in 'runs/train/exp'\n",
        "Image(filename='runs/train/exp/results.png', width=800)"
      ],
      "execution_count": null,
      "outputs": []
    },
    {
      "cell_type": "markdown",
      "metadata": {
        "id": "lfrEegCSW3fK"
      },
      "source": [
        "<p align=\"left\"><img width=\"800\" alt=\"COCO128 Training Results\" src=\"https://user-images.githubusercontent.com/26833433/125273596-6300aa00-e30d-11eb-8dc4-70a960c53013.png\"></p>"
      ]
    },
    {
      "cell_type": "markdown",
      "metadata": {
        "id": "Zelyeqbyt3GD"
      },
      "source": [
        "# Environments\n",
        "\n",
        "YOLOv5 may be run in any of the following up-to-date verified environments (with all dependencies including [CUDA](https://developer.nvidia.com/cuda)/[CUDNN](https://developer.nvidia.com/cudnn), [Python](https://www.python.org/) and [PyTorch](https://pytorch.org/) preinstalled):\n",
        "\n",
        "- **Google Colab and Kaggle** notebooks with free GPU: <a href=\"https://colab.research.google.com/github/ultralytics/yolov5/blob/master/tutorial.ipynb\"><img src=\"https://colab.research.google.com/assets/colab-badge.svg\" alt=\"Open In Colab\"></a> <a href=\"https://www.kaggle.com/ultralytics/yolov5\"><img src=\"https://kaggle.com/static/images/open-in-kaggle.svg\" alt=\"Open In Kaggle\"></a>\n",
        "- **Google Cloud** Deep Learning VM. See [GCP Quickstart Guide](https://github.com/ultralytics/yolov5/wiki/GCP-Quickstart)\n",
        "- **Amazon** Deep Learning AMI. See [AWS Quickstart Guide](https://github.com/ultralytics/yolov5/wiki/AWS-Quickstart)\n",
        "- **Docker Image**. See [Docker Quickstart Guide](https://github.com/ultralytics/yolov5/wiki/Docker-Quickstart) <a href=\"https://hub.docker.com/r/ultralytics/yolov5\"><img src=\"https://img.shields.io/docker/pulls/ultralytics/yolov5?logo=docker\" alt=\"Docker Pulls\"></a>\n"
      ]
    },
    {
      "cell_type": "markdown",
      "metadata": {
        "id": "6Qu7Iesl0p54"
      },
      "source": [
        "# Status\n",
        "\n",
        "![CI CPU testing](https://github.com/ultralytics/yolov5/workflows/CI%20CPU%20testing/badge.svg)\n",
        "\n",
        "If this badge is green, all [YOLOv5 GitHub Actions](https://github.com/ultralytics/yolov5/actions) Continuous Integration (CI) tests are currently passing. CI tests verify correct operation of YOLOv5 training ([train.py](https://github.com/ultralytics/yolov5/blob/master/train.py)), testing ([val.py](https://github.com/ultralytics/yolov5/blob/master/val.py)), inference ([detect.py](https://github.com/ultralytics/yolov5/blob/master/detect.py)) and export ([export.py](https://github.com/ultralytics/yolov5/blob/master/export.py)) on MacOS, Windows, and Ubuntu every 24 hours and on every commit.\n"
      ]
    },
    {
      "cell_type": "markdown",
      "metadata": {
        "id": "IEijrePND_2I"
      },
      "source": [
        "# Appendix\n",
        "\n",
        "Optional extras below. Unit tests validate repo functionality and should be run on any PRs submitted.\n"
      ]
    },
    {
      "cell_type": "code",
      "metadata": {
        "id": "mcKoSIK2WSzj"
      },
      "source": [
        "# Reproduce\n",
        "for x in 'yolov5s', 'yolov5m', 'yolov5l', 'yolov5x':\n",
        "  !python val.py --weights {x}.pt --data coco.yaml --img 640 --conf 0.25 --iou 0.45  # speed\n",
        "  !python val.py --weights {x}.pt --data coco.yaml --img 640 --conf 0.001 --iou 0.65  # mAP"
      ],
      "execution_count": null,
      "outputs": []
    },
    {
      "cell_type": "code",
      "metadata": {
        "id": "GMusP4OAxFu6"
      },
      "source": [
        "# PyTorch Hub\n",
        "import torch\n",
        "\n",
        "# Model\n",
        "model = torch.hub.load('ultralytics/yolov5', 'yolov5s')\n",
        "\n",
        "# Images\n",
        "dir = 'https://github.com/ultralytics/yolov5/raw/master/data/images/'\n",
        "imgs = [dir + f for f in ('zidane.jpg', 'bus.jpg')]  # batch of images\n",
        "\n",
        "# Inference\n",
        "results = model(imgs)\n",
        "results.print()  # or .show(), .save()"
      ],
      "execution_count": null,
      "outputs": []
    },
    {
      "cell_type": "code",
      "metadata": {
        "id": "FGH0ZjkGjejy"
      },
      "source": [
        "# Unit tests\n",
        "%%shell\n",
        "export PYTHONPATH=\"$PWD\"  # to run *.py. files in subdirectories\n",
        "\n",
        "rm -rf runs  # remove runs/\n",
        "for m in yolov5s; do  # models\n",
        "  python train.py --weights $m.pt --epochs 3 --img 320 --device 0  # train pretrained\n",
        "  python train.py --weights '' --cfg $m.yaml --epochs 3 --img 320 --device 0  # train scratch\n",
        "  for d in 0 cpu; do  # devices\n",
        "    python detect.py --weights $m.pt --device $d  # detect official\n",
        "    python detect.py --weights runs/train/exp/weights/best.pt --device $d  # detect custom\n",
        "    python val.py --weights $m.pt --device $d # val official\n",
        "    python val.py --weights runs/train/exp/weights/best.pt --device $d # val custom\n",
        "  done\n",
        "  python hubconf.py  # hub\n",
        "  python models/yolo.py --cfg $m.yaml  # inspect\n",
        "  python export.py --weights $m.pt --img 640 --batch 1  # export\n",
        "done"
      ],
      "execution_count": null,
      "outputs": []
    },
    {
      "cell_type": "code",
      "metadata": {
        "id": "gogI-kwi3Tye"
      },
      "source": [
        "# Profile\n",
        "from utils.torch_utils import profile \n",
        "\n",
        "m1 = lambda x: x * torch.sigmoid(x)\n",
        "m2 = torch.nn.SiLU()\n",
        "profile(x=torch.randn(16, 3, 640, 640), ops=[m1, m2], n=100)"
      ],
      "execution_count": null,
      "outputs": []
    },
    {
      "cell_type": "code",
      "metadata": {
        "id": "RVRSOhEvUdb5"
      },
      "source": [
        "# Evolve\n",
        "!python train.py --img 640 --batch 64 --epochs 100 --data coco128.yaml --weights yolov5s.pt --cache --noautoanchor --evolve\n",
        "!d=runs/train/evolve && cp evolve.* $d && zip -r evolve.zip $d && gsutil mv evolve.zip gs://bucket  # upload results (optional)"
      ],
      "execution_count": null,
      "outputs": []
    },
    {
      "cell_type": "code",
      "metadata": {
        "id": "BSgFCAcMbk1R"
      },
      "source": [
        "# VOC\n",
        "for b, m in zip([64, 48, 32, 16], ['yolov5s', 'yolov5m', 'yolov5l', 'yolov5x']):  # zip(batch_size, model)\n",
        "  !python train.py --batch {b} --weights {m}.pt --data VOC.yaml --epochs 50 --cache --img 512 --nosave --hyp hyp.finetune.yaml --project VOC --name {m}"
      ],
      "execution_count": null,
      "outputs": []
    }
  ]
}